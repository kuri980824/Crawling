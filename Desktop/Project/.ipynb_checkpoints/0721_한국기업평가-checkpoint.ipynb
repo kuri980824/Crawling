{
 "cells": [
  {
   "cell_type": "code",
   "execution_count": 129,
   "id": "86fe7b4f",
   "metadata": {},
   "outputs": [],
   "source": [
    "from selenium import webdriver\n",
    "import pandas as pd\n",
    "from bs4 import BeautifulSoup\n",
    "import urllib.request as req\n",
    "import pandas as pd\n",
    "import requests\n",
    "from io import StringIO\n",
    "import requests\n",
    "import time\n",
    "from selenium.webdriver import Chrome\n",
    "from pdfminer.converter import TextConverter\n",
    "from pdfminer.layout import LAParams\n",
    "from pdfminer.pdfdocument import PDFDocument\n",
    "from pdfminer.pdfinterp import PDFResourceManager, PDFPageInterpreter\n",
    "from pdfminer.pdfpage import PDFPage\n",
    "from pdfminer.pdfparser import PDFParser\n",
    "import os\n",
    "from naver_crawler import *\n",
    "from selenium.webdriver.chrome.options import Options\n",
    "from selenium.webdriver.common.keys import Keys\n",
    "import time\n",
    "import re\n",
    "import parser\n",
    "import datetime\n",
    "from urllib.request import urlopen\n",
    "import webbrowser\n",
    "import xmltodict\n",
    "import json\n",
    "from ast import literal_eval"
   ]
  },
  {
   "cell_type": "code",
   "execution_count": 131,
   "id": "4b0ce565",
   "metadata": {},
   "outputs": [
    {
     "data": {
      "text/plain": [
       "(459, '1983-12-08', '2021-07-21')"
      ]
     },
     "execution_count": 131,
     "metadata": {},
     "output_type": "execute_result"
    }
   ],
   "source": [
    "# 한국기업평가 설립일 : 1983.12.29\n",
    "# 1980 ~ 2021 date_list 만들기\n",
    "import time\n",
    "from datetime import date,timedelta\n",
    "today= date.today()\n",
    "date_lst=[]\n",
    "for i in range(459):\n",
    "    date_lst.append((today - timedelta(days=30*i)).strftime(\"%Y-%m-%d\"))\n",
    "len(date_lst),date_lst[-1],date_lst[0]"
   ]
  },
  {
   "cell_type": "code",
   "execution_count": 144,
   "id": "8c9f8e12",
   "metadata": {},
   "outputs": [],
   "source": [
    "table_save = table_DF.copy()"
   ]
  },
  {
   "cell_type": "code",
   "execution_count": 152,
   "id": "7d9f5394",
   "metadata": {},
   "outputs": [
    {
     "data": {
      "text/plain": [
       "'C:\\\\Users\\\\kuri9\\\\Desktop\\\\Crawling\\\\Desktop\\\\Project'"
      ]
     },
     "execution_count": 152,
     "metadata": {},
     "output_type": "execute_result"
    }
   ],
   "source": [
    "table_DF = pd.DataFrame()\n",
    "type_lst = ['회사채','기업어음','전자단기사채','ABS','ABCP','ABSTB','ICR','IFSR']\n",
    "os.getcwd()"
   ]
  },
  {
   "cell_type": "code",
   "execution_count": 160,
   "id": "5a648a79",
   "metadata": {},
   "outputs": [],
   "source": [
    "# 창 띄우기\n",
    "delay=3\n",
    "browser = Chrome()\n",
    "browser.implicitly_wait(delay)"
   ]
  },
  {
   "cell_type": "code",
   "execution_count": 161,
   "id": "2354b429",
   "metadata": {},
   "outputs": [],
   "source": [
    "url = 'http://www.rating.co.kr/disclosure/QDisclosure014.do'\n",
    "browser.get(url)"
   ]
  },
  {
   "cell_type": "code",
   "execution_count": null,
   "id": "c3c61dc8",
   "metadata": {
    "scrolled": true
   },
   "outputs": [],
   "source": [
    "# 1달이라는 기간동안\n",
    "for t in range(len(date_lst)-1):\n",
    "    start_date = browser.find_element_by_xpath('//*[@id=\"fromDt\"]')\n",
    "    start_date.clear()\n",
    "    start_date.send_keys(date_lst[t+1])\n",
    "    end_date = browser.find_element_by_xpath('//*[@id=\"toDt\"]')\n",
    "    end_date.clear()\n",
    "    end_date.send_keys(date_lst[t])\n",
    "    \n",
    "    # 8종류의 데이터를\n",
    "    for i in range(2,10):\n",
    "        \n",
    "        type_btn = browser.find_element_by_xpath('//*[@id=\"selectTitle\"]/option[{}]'.format(i))\n",
    "        type_btn.click()\n",
    "\n",
    "        src_btn = browser.find_element_by_xpath('//*[@id=\"content\"]/div[1]/div/div/ul/li[2]/a/span')\n",
    "        src_btn.click()\n",
    "        \n",
    "        # 1,11,21,... 페이지\n",
    "        for k in range(10):\n",
    "            \n",
    "\n",
    "            # 1페이지 추출\n",
    "            result = browser.page_source\n",
    "            soup = BeautifulSoup(result, 'html.parser')\n",
    "            table = soup.select('div.table_type4')\n",
    "            table_html = str(table)\n",
    "\n",
    "            table_df = pd.read_html(table_html)[0]\n",
    "            table_df['Type']=type_lst[i] # Type : 1~8 가지의 종류의 데이터 이름\n",
    "            table_DF=pd.concat([table_DF,table_df],axis=0)\n",
    "            print(\"table_DF:\",table_DF.shape)\n",
    "\n",
    "            # 2~10페이지 추출\n",
    "            for j in range(4,13):\n",
    "                \n",
    "                try:\n",
    "                    next_btn = browser.find_element_by_css_selector('#paging > a:nth-child({})'.format(j))\n",
    "                    next_btn.click()\n",
    "                except:\n",
    "                    break\n",
    "                    \n",
    "                result = browser.page_source\n",
    "                soup = BeautifulSoup(result, 'html.parser')\n",
    "                table = soup.select('div.table_type4')\n",
    "                table_html = str(table)\n",
    "\n",
    "                # 1. 회사채\n",
    "                table_df = pd.read_html(table_html)[0]\n",
    "                table_df['Type']=type_lst[i]\n",
    "                print(\"table_df\",table_df.head())\n",
    "                table_DF=pd.concat([table_DF,table_df],axis=0)\n",
    "                print(\"table_DF:\",table_DF.shape)\n",
    "                    \n",
    "            # 다음 페이지(11,21...)로 넘어가기\n",
    "            print(10*k,\"페이지 완료 | table_DF.shape: \",table_DF.shape)\n",
    "            print(table_DF)\n",
    "            \n",
    "            try:\n",
    "                nextpg_btn = browser.find_element_by_css_selector('#paging > a.next')\n",
    "                nextpg_btn.click()\n",
    "            except:\n",
    "                break\n",
    "        "
   ]
  },
  {
   "cell_type": "code",
   "execution_count": 137,
   "id": "b2a98506",
   "metadata": {},
   "outputs": [
    {
     "data": {
      "text/plain": [
       "(1060, 12)"
      ]
     },
     "execution_count": 137,
     "metadata": {},
     "output_type": "execute_result"
    }
   ],
   "source": [
    "table_DF.shape"
   ]
  },
  {
   "cell_type": "code",
   "execution_count": 145,
   "id": "f258d488",
   "metadata": {},
   "outputs": [
    {
     "data": {
      "text/plain": [
       "(200, 12)"
      ]
     },
     "execution_count": 145,
     "metadata": {},
     "output_type": "execute_result"
    }
   ],
   "source": [
    "table_DF.drop_duplicates().shape"
   ]
  },
  {
   "cell_type": "code",
   "execution_count": 120,
   "id": "b390ecff",
   "metadata": {},
   "outputs": [],
   "source": [
    "src_btn = browser.find_element_by_xpath('//*[@id=\"content\"]/div[1]/div/div/ul/li[2]/a/span')\n",
    "src_btn.click()"
   ]
  },
  {
   "cell_type": "code",
   "execution_count": 122,
   "id": "6e9a6523",
   "metadata": {},
   "outputs": [],
   "source": [
    "try:\n",
    "    nextpg_btn = browser.find_element_by_css_selector('#paging > a.next')\n",
    "    nextpg_btn.click()\n",
    "except:\n",
    "    pass"
   ]
  },
  {
   "cell_type": "code",
   "execution_count": null,
   "id": "5ed5b045",
   "metadata": {},
   "outputs": [],
   "source": []
  },
  {
   "cell_type": "code",
   "execution_count": 198,
   "id": "4938d075",
   "metadata": {},
   "outputs": [
    {
     "data": {
      "text/plain": [
       "2020    2838\n",
       "2021    2328\n",
       "2019    2222\n",
       "2018    1450\n",
       "2017    1108\n",
       "2016     670\n",
       "2015     524\n",
       "2014     268\n",
       "2013     210\n",
       "2012     138\n",
       "2011      60\n",
       "2010      10\n",
       "Name: 평가일, dtype: int64"
      ]
     },
     "execution_count": 198,
     "metadata": {},
     "output_type": "execute_result"
    }
   ],
   "source": [
    "table_DF1.평가일.str.slice(0,4).value_counts()"
   ]
  },
  {
   "cell_type": "code",
   "execution_count": 205,
   "id": "68f2c37f",
   "metadata": {},
   "outputs": [],
   "source": [
    "table_DF1=table_DF1.drop_duplicates()\n",
    "table_DF2=table_DF2.drop_duplicates()\n",
    "table_DF3=table_DF3.drop_duplicates()\n",
    "table_DF4=table_DF4.drop_duplicates()\n",
    "table_DF5=table_DF5.drop_duplicates()\n",
    "table_DF6=table_DF6.drop_duplicates()\n",
    "table_DF7=table_DF7.drop_duplicates()\n",
    "table_DF8=table_DF8.drop_duplicates()"
   ]
  },
  {
   "cell_type": "code",
   "execution_count": 209,
   "id": "af1adc7c",
   "metadata": {},
   "outputs": [
    {
     "name": "stdout",
     "output_type": "stream",
     "text": [
      "table_DF1: (11620, 11)\n",
      "table_DF2: (299, 9)\n",
      "table_DF3: (114, 10)\n",
      "table_DF4: (119, 11)\n",
      "table_DF5: (25, 11)\n",
      "table_DF6: (5216, 11)\n",
      "table_DF7: (420, 12)\n",
      "table_DF8: (16, 12)\n"
     ]
    }
   ],
   "source": [
    "print(\"table_DF1:\",table_DF1.shape)\n",
    "print(\"table_DF2:\",table_DF2.shape)\n",
    "print(\"table_DF3:\",table_DF3.shape)\n",
    "print(\"table_DF4:\",table_DF4.shape)\n",
    "print(\"table_DF5:\",table_DF5.shape)\n",
    "print(\"table_DF6:\",table_DF6.shape)\n",
    "print(\"table_DF7:\",table_DF7.shape)\n",
    "print(\"table_DF8:\",table_DF8.shape)"
   ]
  },
  {
   "cell_type": "code",
   "execution_count": 212,
   "id": "a5c74d16",
   "metadata": {
    "scrolled": true
   },
   "outputs": [],
   "source": [
    "os.chdir('C:\\\\Users\\\\kuri9\\\\Desktop\\\\Crawling\\\\Desktop\\\\Project\\\\1_Data')\n",
    "table_DF1.to_csv('KOREA_CREDIT_1.csv',index=False)\n",
    "table_DF2.to_csv('KOREA_CREDIT_2.csv',index=False)\n",
    "table_DF3.to_csv('KOREA_CREDIT_3.csv',index=False)\n",
    "table_DF4.to_csv('KOREA_CREDIT_4.csv',index=False)\n",
    "table_DF5.to_csv('KOREA_CREDIT_5.csv',index=False)\n",
    "table_DF6.to_csv('KOREA_CREDIT_6.csv',index=False)\n",
    "table_DF7.to_csv('KOREA_CREDIT_7.csv',index=False)\n",
    "table_DF8.to_csv('KOREA_CREDIT_8.csv',index=False)"
   ]
  },
  {
   "cell_type": "code",
   "execution_count": 213,
   "id": "e4a163c6",
   "metadata": {},
   "outputs": [
    {
     "data": {
      "text/plain": [
       "'C:\\\\Users\\\\kuri9\\\\Desktop\\\\Crawling\\\\Desktop\\\\Project\\\\1_Data'"
      ]
     },
     "execution_count": 213,
     "metadata": {},
     "output_type": "execute_result"
    }
   ],
   "source": [
    "os.getcwd()"
   ]
  }
 ],
 "metadata": {
  "kernelspec": {
   "display_name": "Python 3",
   "language": "python",
   "name": "python3"
  },
  "language_info": {
   "codemirror_mode": {
    "name": "ipython",
    "version": 3
   },
   "file_extension": ".py",
   "mimetype": "text/x-python",
   "name": "python",
   "nbconvert_exporter": "python",
   "pygments_lexer": "ipython3",
   "version": "3.9.5"
  }
 },
 "nbformat": 4,
 "nbformat_minor": 5
}
