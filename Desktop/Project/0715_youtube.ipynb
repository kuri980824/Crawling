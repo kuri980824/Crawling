{
 "cells": [
  {
   "cell_type": "code",
   "execution_count": 1,
   "id": "0ace911f",
   "metadata": {},
   "outputs": [],
   "source": [
    "import requests\n",
    "from bs4 import BeautifulSoup\n",
    "import time\n",
    "import urllib.request #\n",
    "from selenium.webdriver import Chrome\n",
    "import re     \n",
    "from selenium.webdriver.chrome.options import Options\n",
    "from selenium.webdriver.common.keys import Keys\n",
    "import datetime as dt"
   ]
  },
  {
   "cell_type": "code",
   "execution_count": 2,
   "id": "8d647023",
   "metadata": {},
   "outputs": [],
   "source": [
    "delay=3\n",
    "browser = Chrome()\n",
    "browser.implicitly_wait(delay)"
   ]
  },
  {
   "cell_type": "code",
   "execution_count": 3,
   "id": "5450d2b0",
   "metadata": {},
   "outputs": [],
   "source": [
    "start_url  = 'https://www.youtube.com'\n",
    "browser.get(start_url)  \n",
    "browser.maximize_window()"
   ]
  },
  {
   "cell_type": "code",
   "execution_count": 6,
   "id": "6bd900c1",
   "metadata": {},
   "outputs": [],
   "source": [
    "body = browser.find_element_by_tag_name('body')#스크롤하기 위해 소스 추출\n",
    "\n",
    "num_of_pagedowns = 30\n",
    "#10번 밑으로 내리는 것\n",
    "while num_of_pagedowns:\n",
    "    body.send_keys(Keys.PAGE_DOWN)\n",
    "    time.sleep(0.1)\n",
    "    num_of_pagedowns -= 1"
   ]
  },
  {
   "cell_type": "code",
   "execution_count": null,
   "id": "68554b8b",
   "metadata": {},
   "outputs": [],
   "source": [
    "html0 = browser.page_source\n",
    "html = BeautifulSoup(html0,'html.parser')"
   ]
  },
  {
   "cell_type": "code",
   "execution_count": 8,
   "id": "287224d2",
   "metadata": {},
   "outputs": [
    {
     "name": "stdout",
     "output_type": "stream",
     "text": [
      "^C\n"
     ]
    },
    {
     "name": "stderr",
     "output_type": "stream",
     "text": [
      "'git'은(는) 내부 또는 외부 명령, 실행할 수 있는 프로그램, 또는\n",
      "배치 파일이 아닙니다.\n"
     ]
    }
   ],
   "source": []
  },
  {
   "cell_type": "code",
   "execution_count": null,
   "id": "7d4ae420",
   "metadata": {},
   "outputs": [],
   "source": []
  }
 ],
 "metadata": {
  "kernelspec": {
   "display_name": "Python 3",
   "language": "python",
   "name": "python3"
  },
  "language_info": {
   "codemirror_mode": {
    "name": "ipython",
    "version": 3
   },
   "file_extension": ".py",
   "mimetype": "text/x-python",
   "name": "python",
   "nbconvert_exporter": "python",
   "pygments_lexer": "ipython3",
   "version": "3.8.10"
  }
 },
 "nbformat": 4,
 "nbformat_minor": 5
}
