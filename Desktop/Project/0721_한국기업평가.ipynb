{
 "cells": [
  {
   "cell_type": "code",
   "execution_count": 19,
   "id": "86fe7b4f",
   "metadata": {},
   "outputs": [],
   "source": [
    "from selenium import webdriver\n",
    "import pandas as pd\n",
    "from bs4 import BeautifulSoup\n",
    "import urllib.request as req\n",
    "import pandas as pd\n",
    "import requests\n",
    "from io import StringIO\n",
    "import requests\n",
    "import time\n",
    "from selenium.webdriver import Chrome\n",
    "from pdfminer.converter import TextConverter\n",
    "from pdfminer.layout import LAParams\n",
    "from pdfminer.pdfdocument import PDFDocument\n",
    "from pdfminer.pdfinterp import PDFResourceManager, PDFPageInterpreter\n",
    "from pdfminer.pdfpage import PDFPage\n",
    "from pdfminer.pdfparser import PDFParser\n",
    "import os\n",
    "from naver_crawler import *\n",
    "from selenium.webdriver.chrome.options import Options\n",
    "from selenium.webdriver.common.keys import Keys\n",
    "import time\n",
    "import re\n",
    "import parser\n",
    "import datetime\n",
    "from urllib.request import urlopen\n",
    "import webbrowser\n",
    "import xmltodict\n",
    "import json\n",
    "from ast import literal_eval"
   ]
  },
  {
   "cell_type": "code",
   "execution_count": 46,
   "id": "4b0ce565",
   "metadata": {},
   "outputs": [
    {
     "data": {
      "text/plain": [
       "(1064, '1980-10-23', '2021-07-22')"
      ]
     },
     "execution_count": 46,
     "metadata": {},
     "output_type": "execute_result"
    }
   ],
   "source": [
    "# 한국기업평가 설립일 : 1983.12.29\n",
    "# 1980 ~ 2021 date_list 만들기\n",
    "import time\n",
    "from datetime import date,timedelta\n",
    "today= date.today()\n",
    "date_lst=[]\n",
    "for i in range(1064):\n",
    "    date_lst.append((today - timedelta(days=14*i)).strftime(\"%Y-%m-%d\"))\n",
    "len(date_lst),date_lst[-1],date_lst[0]"
   ]
  },
  {
   "cell_type": "code",
   "execution_count": 48,
   "id": "8c9f8e12",
   "metadata": {},
   "outputs": [],
   "source": [
    "# table_save = table_DF.copy()\n",
    "# table_save2 = table_DF.copy()\n",
    "table_save.to_csv('COMPANY_TEMP.csv',index=False)\n",
    "table_save2.to_csv('COMPANY_TEMP2.csv',index=False)"
   ]
  },
  {
   "cell_type": "code",
   "execution_count": 38,
   "id": "7d9f5394",
   "metadata": {},
   "outputs": [
    {
     "data": {
      "text/plain": [
       "'C:\\\\Users\\\\kuri9\\\\Desktop\\\\Crawling\\\\Desktop\\\\Project'"
      ]
     },
     "execution_count": 38,
     "metadata": {},
     "output_type": "execute_result"
    }
   ],
   "source": [
    "table_DF = pd.DataFrame()\n",
    "type_lst = ['회사채','기업어음','전자단기사채','ABS','ABCP','ABSTB','ICR','IFSR']\n",
    "os.getcwd()"
   ]
  },
  {
   "cell_type": "code",
   "execution_count": 39,
   "id": "5a648a79",
   "metadata": {},
   "outputs": [],
   "source": [
    "# 창 띄우기\n",
    "delay=3\n",
    "browser = Chrome()\n",
    "browser.implicitly_wait(delay)"
   ]
  },
  {
   "cell_type": "code",
   "execution_count": 40,
   "id": "2354b429",
   "metadata": {},
   "outputs": [],
   "source": [
    "url = 'http://www.rating.co.kr/disclosure/QDisclosure014.do'\n",
    "browser.get(url)"
   ]
  },
  {
   "cell_type": "code",
   "execution_count": 47,
   "id": "c3c61dc8",
   "metadata": {
    "scrolled": true
   },
   "outputs": [
    {
     "ename": "WebDriverException",
     "evalue": "Message: chrome not reachable\n  (Session info: chrome=91.0.4472.164)\n",
     "output_type": "error",
     "traceback": [
      "\u001b[1;31m---------------------------------------------------------------------------\u001b[0m",
      "\u001b[1;31mWebDriverException\u001b[0m                        Traceback (most recent call last)",
      "\u001b[1;32m<ipython-input-47-8b355a99a9cb>\u001b[0m in \u001b[0;36m<module>\u001b[1;34m\u001b[0m\n\u001b[0;32m      1\u001b[0m \u001b[1;31m# 1달이라는 기간동안\u001b[0m\u001b[1;33m\u001b[0m\u001b[1;33m\u001b[0m\u001b[1;33m\u001b[0m\u001b[0m\n\u001b[0;32m      2\u001b[0m \u001b[1;32mfor\u001b[0m \u001b[0mt\u001b[0m \u001b[1;32min\u001b[0m \u001b[0mrange\u001b[0m\u001b[1;33m(\u001b[0m\u001b[0mlen\u001b[0m\u001b[1;33m(\u001b[0m\u001b[0mdate_lst\u001b[0m\u001b[1;33m)\u001b[0m\u001b[1;33m-\u001b[0m\u001b[1;36m1\u001b[0m\u001b[1;33m)\u001b[0m\u001b[1;33m:\u001b[0m\u001b[1;33m\u001b[0m\u001b[1;33m\u001b[0m\u001b[0m\n\u001b[1;32m----> 3\u001b[1;33m     \u001b[0mstart_date\u001b[0m \u001b[1;33m=\u001b[0m \u001b[0mbrowser\u001b[0m\u001b[1;33m.\u001b[0m\u001b[0mfind_element_by_xpath\u001b[0m\u001b[1;33m(\u001b[0m\u001b[1;34m'//*[@id=\"fromDt\"]'\u001b[0m\u001b[1;33m)\u001b[0m\u001b[1;33m\u001b[0m\u001b[1;33m\u001b[0m\u001b[0m\n\u001b[0m\u001b[0;32m      4\u001b[0m     \u001b[0mstart_date\u001b[0m\u001b[1;33m.\u001b[0m\u001b[0mclear\u001b[0m\u001b[1;33m(\u001b[0m\u001b[1;33m)\u001b[0m\u001b[1;33m\u001b[0m\u001b[1;33m\u001b[0m\u001b[0m\n\u001b[0;32m      5\u001b[0m     \u001b[0mstart_date\u001b[0m\u001b[1;33m.\u001b[0m\u001b[0msend_keys\u001b[0m\u001b[1;33m(\u001b[0m\u001b[0mdate_lst\u001b[0m\u001b[1;33m[\u001b[0m\u001b[0mt\u001b[0m\u001b[1;33m+\u001b[0m\u001b[1;36m1\u001b[0m\u001b[1;33m]\u001b[0m\u001b[1;33m)\u001b[0m\u001b[1;33m\u001b[0m\u001b[1;33m\u001b[0m\u001b[0m\n",
      "\u001b[1;32m~\\anaconda3\\envs\\gyuri\\lib\\site-packages\\selenium\\webdriver\\remote\\webdriver.py\u001b[0m in \u001b[0;36mfind_element_by_xpath\u001b[1;34m(self, xpath)\u001b[0m\n\u001b[0;32m    392\u001b[0m             \u001b[0melement\u001b[0m \u001b[1;33m=\u001b[0m \u001b[0mdriver\u001b[0m\u001b[1;33m.\u001b[0m\u001b[0mfind_element_by_xpath\u001b[0m\u001b[1;33m(\u001b[0m\u001b[1;34m'//div/td[1]'\u001b[0m\u001b[1;33m)\u001b[0m\u001b[1;33m\u001b[0m\u001b[1;33m\u001b[0m\u001b[0m\n\u001b[0;32m    393\u001b[0m         \"\"\"\n\u001b[1;32m--> 394\u001b[1;33m         \u001b[1;32mreturn\u001b[0m \u001b[0mself\u001b[0m\u001b[1;33m.\u001b[0m\u001b[0mfind_element\u001b[0m\u001b[1;33m(\u001b[0m\u001b[0mby\u001b[0m\u001b[1;33m=\u001b[0m\u001b[0mBy\u001b[0m\u001b[1;33m.\u001b[0m\u001b[0mXPATH\u001b[0m\u001b[1;33m,\u001b[0m \u001b[0mvalue\u001b[0m\u001b[1;33m=\u001b[0m\u001b[0mxpath\u001b[0m\u001b[1;33m)\u001b[0m\u001b[1;33m\u001b[0m\u001b[1;33m\u001b[0m\u001b[0m\n\u001b[0m\u001b[0;32m    395\u001b[0m \u001b[1;33m\u001b[0m\u001b[0m\n\u001b[0;32m    396\u001b[0m     \u001b[1;32mdef\u001b[0m \u001b[0mfind_elements_by_xpath\u001b[0m\u001b[1;33m(\u001b[0m\u001b[0mself\u001b[0m\u001b[1;33m,\u001b[0m \u001b[0mxpath\u001b[0m\u001b[1;33m)\u001b[0m\u001b[1;33m:\u001b[0m\u001b[1;33m\u001b[0m\u001b[1;33m\u001b[0m\u001b[0m\n",
      "\u001b[1;32m~\\anaconda3\\envs\\gyuri\\lib\\site-packages\\selenium\\webdriver\\remote\\webdriver.py\u001b[0m in \u001b[0;36mfind_element\u001b[1;34m(self, by, value)\u001b[0m\n\u001b[0;32m    974\u001b[0m                 \u001b[0mby\u001b[0m \u001b[1;33m=\u001b[0m \u001b[0mBy\u001b[0m\u001b[1;33m.\u001b[0m\u001b[0mCSS_SELECTOR\u001b[0m\u001b[1;33m\u001b[0m\u001b[1;33m\u001b[0m\u001b[0m\n\u001b[0;32m    975\u001b[0m                 \u001b[0mvalue\u001b[0m \u001b[1;33m=\u001b[0m \u001b[1;34m'[name=\"%s\"]'\u001b[0m \u001b[1;33m%\u001b[0m \u001b[0mvalue\u001b[0m\u001b[1;33m\u001b[0m\u001b[1;33m\u001b[0m\u001b[0m\n\u001b[1;32m--> 976\u001b[1;33m         return self.execute(Command.FIND_ELEMENT, {\n\u001b[0m\u001b[0;32m    977\u001b[0m             \u001b[1;34m'using'\u001b[0m\u001b[1;33m:\u001b[0m \u001b[0mby\u001b[0m\u001b[1;33m,\u001b[0m\u001b[1;33m\u001b[0m\u001b[1;33m\u001b[0m\u001b[0m\n\u001b[0;32m    978\u001b[0m             'value': value})['value']\n",
      "\u001b[1;32m~\\anaconda3\\envs\\gyuri\\lib\\site-packages\\selenium\\webdriver\\remote\\webdriver.py\u001b[0m in \u001b[0;36mexecute\u001b[1;34m(self, driver_command, params)\u001b[0m\n\u001b[0;32m    319\u001b[0m         \u001b[0mresponse\u001b[0m \u001b[1;33m=\u001b[0m \u001b[0mself\u001b[0m\u001b[1;33m.\u001b[0m\u001b[0mcommand_executor\u001b[0m\u001b[1;33m.\u001b[0m\u001b[0mexecute\u001b[0m\u001b[1;33m(\u001b[0m\u001b[0mdriver_command\u001b[0m\u001b[1;33m,\u001b[0m \u001b[0mparams\u001b[0m\u001b[1;33m)\u001b[0m\u001b[1;33m\u001b[0m\u001b[1;33m\u001b[0m\u001b[0m\n\u001b[0;32m    320\u001b[0m         \u001b[1;32mif\u001b[0m \u001b[0mresponse\u001b[0m\u001b[1;33m:\u001b[0m\u001b[1;33m\u001b[0m\u001b[1;33m\u001b[0m\u001b[0m\n\u001b[1;32m--> 321\u001b[1;33m             \u001b[0mself\u001b[0m\u001b[1;33m.\u001b[0m\u001b[0merror_handler\u001b[0m\u001b[1;33m.\u001b[0m\u001b[0mcheck_response\u001b[0m\u001b[1;33m(\u001b[0m\u001b[0mresponse\u001b[0m\u001b[1;33m)\u001b[0m\u001b[1;33m\u001b[0m\u001b[1;33m\u001b[0m\u001b[0m\n\u001b[0m\u001b[0;32m    322\u001b[0m             response['value'] = self._unwrap_value(\n\u001b[0;32m    323\u001b[0m                 response.get('value', None))\n",
      "\u001b[1;32m~\\anaconda3\\envs\\gyuri\\lib\\site-packages\\selenium\\webdriver\\remote\\errorhandler.py\u001b[0m in \u001b[0;36mcheck_response\u001b[1;34m(self, response)\u001b[0m\n\u001b[0;32m    240\u001b[0m                 \u001b[0malert_text\u001b[0m \u001b[1;33m=\u001b[0m \u001b[0mvalue\u001b[0m\u001b[1;33m[\u001b[0m\u001b[1;34m'alert'\u001b[0m\u001b[1;33m]\u001b[0m\u001b[1;33m.\u001b[0m\u001b[0mget\u001b[0m\u001b[1;33m(\u001b[0m\u001b[1;34m'text'\u001b[0m\u001b[1;33m)\u001b[0m\u001b[1;33m\u001b[0m\u001b[1;33m\u001b[0m\u001b[0m\n\u001b[0;32m    241\u001b[0m             \u001b[1;32mraise\u001b[0m \u001b[0mexception_class\u001b[0m\u001b[1;33m(\u001b[0m\u001b[0mmessage\u001b[0m\u001b[1;33m,\u001b[0m \u001b[0mscreen\u001b[0m\u001b[1;33m,\u001b[0m \u001b[0mstacktrace\u001b[0m\u001b[1;33m,\u001b[0m \u001b[0malert_text\u001b[0m\u001b[1;33m)\u001b[0m\u001b[1;33m\u001b[0m\u001b[1;33m\u001b[0m\u001b[0m\n\u001b[1;32m--> 242\u001b[1;33m         \u001b[1;32mraise\u001b[0m \u001b[0mexception_class\u001b[0m\u001b[1;33m(\u001b[0m\u001b[0mmessage\u001b[0m\u001b[1;33m,\u001b[0m \u001b[0mscreen\u001b[0m\u001b[1;33m,\u001b[0m \u001b[0mstacktrace\u001b[0m\u001b[1;33m)\u001b[0m\u001b[1;33m\u001b[0m\u001b[1;33m\u001b[0m\u001b[0m\n\u001b[0m\u001b[0;32m    243\u001b[0m \u001b[1;33m\u001b[0m\u001b[0m\n\u001b[0;32m    244\u001b[0m     \u001b[1;32mdef\u001b[0m \u001b[0m_value_or_default\u001b[0m\u001b[1;33m(\u001b[0m\u001b[0mself\u001b[0m\u001b[1;33m,\u001b[0m \u001b[0mobj\u001b[0m\u001b[1;33m,\u001b[0m \u001b[0mkey\u001b[0m\u001b[1;33m,\u001b[0m \u001b[0mdefault\u001b[0m\u001b[1;33m)\u001b[0m\u001b[1;33m:\u001b[0m\u001b[1;33m\u001b[0m\u001b[1;33m\u001b[0m\u001b[0m\n",
      "\u001b[1;31mWebDriverException\u001b[0m: Message: chrome not reachable\n  (Session info: chrome=91.0.4472.164)\n"
     ]
    }
   ],
   "source": [
    "# 1달이라는 기간동안\n",
    "for t in range(len(date_lst)-1):\n",
    "    start_date = browser.find_element_by_xpath('//*[@id=\"fromDt\"]')\n",
    "    start_date.clear()\n",
    "    start_date.send_keys(date_lst[t+1])\n",
    "    end_date = browser.find_element_by_xpath('//*[@id=\"toDt\"]')\n",
    "    end_date.clear()\n",
    "    end_date.send_keys(date_lst[t])\n",
    "    \n",
    "    # 8종류의 데이터를\n",
    "    for i in range(2,10):\n",
    "        \n",
    "        type_btn = browser.find_element_by_xpath('//*[@id=\"selectTitle\"]/option[{}]'.format(i))\n",
    "        type_btn.click()\n",
    "\n",
    "        src_btn = browser.find_element_by_xpath('//*[@id=\"content\"]/div[1]/div/div/ul/li[2]/a/span')\n",
    "        src_btn.click()\n",
    "        \n",
    "        # 1,11,21,... 페이지\n",
    "        for k in range(3):\n",
    "            \n",
    "\n",
    "            # 1페이지 추출\n",
    "            result = browser.page_source\n",
    "            soup = BeautifulSoup(result, 'html.parser')\n",
    "            table = soup.select('div.table_type4')\n",
    "            table_html = str(table)\n",
    "\n",
    "            table_df = pd.read_html(table_html)[0]\n",
    "            table_df['Type']=type_lst[i] # Type : 1~8 가지의 종류의 데이터 이름\n",
    "            table_DF=pd.concat([table_DF,table_df],axis=0)\n",
    "            print(\"table_DF:\",table_DF.shape)\n",
    "\n",
    "            # 2~10페이지 추출\n",
    "            for j in range(4,13):\n",
    "                \n",
    "                try:\n",
    "                    next_btn = browser.find_element_by_css_selector('#paging > a:nth-child({})'.format(j))\n",
    "                    next_btn.click()\n",
    "                    \n",
    "                    result = browser.page_source\n",
    "                    soup = BeautifulSoup(result, 'html.parser')\n",
    "                    table = soup.select('div.table_type4')\n",
    "                    table_html = str(table)\n",
    "\n",
    "                    # 1. 회사채\n",
    "                    table_df = pd.read_html(table_html)[0]\n",
    "                    table_df['Type']=type_lst[i-2]\n",
    "                    print(\"table_df\",table_df.head())\n",
    "                    table_DF=pd.concat([table_DF,table_df],axis=0)\n",
    "                    print(\"table_DF:\",table_DF.shape)\n",
    "                except:\n",
    "                    break\n",
    "                    \n",
    "                \n",
    "                    \n",
    "            # 다음 페이지(11,21...)로 넘어가기\n",
    "            print(10*k,\"페이지 완료 | table_DF.shape: \",table_DF.shape)\n",
    "            print(table_DF)\n",
    "            \n",
    "            try:\n",
    "                nextpg_btn = browser.find_element_by_css_selector('#paging > a.next')\n",
    "                nextpg_btn.click()\n",
    "            except:\n",
    "                break\n",
    "        "
   ]
  },
  {
   "cell_type": "code",
   "execution_count": 37,
   "id": "b2a98506",
   "metadata": {},
   "outputs": [
    {
     "data": {
      "text/plain": [
       "(1616, 17)"
      ]
     },
     "execution_count": 37,
     "metadata": {},
     "output_type": "execute_result"
    }
   ],
   "source": [
    "table_DF.shape"
   ]
  },
  {
   "cell_type": "code",
   "execution_count": 34,
   "id": "f258d488",
   "metadata": {},
   "outputs": [
    {
     "data": {
      "text/plain": [
       "(1254, 17)"
      ]
     },
     "execution_count": 34,
     "metadata": {},
     "output_type": "execute_result"
    }
   ],
   "source": [
    "table_DF.drop_duplicates().shape"
   ]
  },
  {
   "cell_type": "code",
   "execution_count": 120,
   "id": "b390ecff",
   "metadata": {},
   "outputs": [],
   "source": [
    "src_btn = browser.find_element_by_xpath('//*[@id=\"content\"]/div[1]/div/div/ul/li[2]/a/span')\n",
    "src_btn.click()"
   ]
  },
  {
   "cell_type": "code",
   "execution_count": 122,
   "id": "6e9a6523",
   "metadata": {},
   "outputs": [],
   "source": [
    "try:\n",
    "    nextpg_btn = browser.find_element_by_css_selector('#paging > a.next')\n",
    "    nextpg_btn.click()\n",
    "except:\n",
    "    pass"
   ]
  },
  {
   "cell_type": "code",
   "execution_count": null,
   "id": "5ed5b045",
   "metadata": {},
   "outputs": [],
   "source": []
  },
  {
   "cell_type": "code",
   "execution_count": 198,
   "id": "4938d075",
   "metadata": {},
   "outputs": [
    {
     "data": {
      "text/plain": [
       "2020    2838\n",
       "2021    2328\n",
       "2019    2222\n",
       "2018    1450\n",
       "2017    1108\n",
       "2016     670\n",
       "2015     524\n",
       "2014     268\n",
       "2013     210\n",
       "2012     138\n",
       "2011      60\n",
       "2010      10\n",
       "Name: 평가일, dtype: int64"
      ]
     },
     "execution_count": 198,
     "metadata": {},
     "output_type": "execute_result"
    }
   ],
   "source": [
    "table_DF1.평가일.str.slice(0,4).value_counts()"
   ]
  },
  {
   "cell_type": "code",
   "execution_count": 205,
   "id": "68f2c37f",
   "metadata": {},
   "outputs": [],
   "source": [
    "table_DF1=table_DF1.drop_duplicates()\n",
    "table_DF2=table_DF2.drop_duplicates()\n",
    "table_DF3=table_DF3.drop_duplicates()\n",
    "table_DF4=table_DF4.drop_duplicates()\n",
    "table_DF5=table_DF5.drop_duplicates()\n",
    "table_DF6=table_DF6.drop_duplicates()\n",
    "table_DF7=table_DF7.drop_duplicates()\n",
    "table_DF8=table_DF8.drop_duplicates()"
   ]
  },
  {
   "cell_type": "code",
   "execution_count": 209,
   "id": "af1adc7c",
   "metadata": {},
   "outputs": [
    {
     "name": "stdout",
     "output_type": "stream",
     "text": [
      "table_DF1: (11620, 11)\n",
      "table_DF2: (299, 9)\n",
      "table_DF3: (114, 10)\n",
      "table_DF4: (119, 11)\n",
      "table_DF5: (25, 11)\n",
      "table_DF6: (5216, 11)\n",
      "table_DF7: (420, 12)\n",
      "table_DF8: (16, 12)\n"
     ]
    }
   ],
   "source": [
    "print(\"table_DF1:\",table_DF1.shape)\n",
    "print(\"table_DF2:\",table_DF2.shape)\n",
    "print(\"table_DF3:\",table_DF3.shape)\n",
    "print(\"table_DF4:\",table_DF4.shape)\n",
    "print(\"table_DF5:\",table_DF5.shape)\n",
    "print(\"table_DF6:\",table_DF6.shape)\n",
    "print(\"table_DF7:\",table_DF7.shape)\n",
    "print(\"table_DF8:\",table_DF8.shape)"
   ]
  },
  {
   "cell_type": "code",
   "execution_count": 212,
   "id": "a5c74d16",
   "metadata": {
    "scrolled": true
   },
   "outputs": [],
   "source": [
    "os.chdir('C:\\\\Users\\\\kuri9\\\\Desktop\\\\Crawling\\\\Desktop\\\\Project\\\\1_Data')\n",
    "table_DF1.to_csv('KOREA_CREDIT_1.csv',index=False)\n",
    "table_DF2.to_csv('KOREA_CREDIT_2.csv',index=False)\n",
    "table_DF3.to_csv('KOREA_CREDIT_3.csv',index=False)\n",
    "table_DF4.to_csv('KOREA_CREDIT_4.csv',index=False)\n",
    "table_DF5.to_csv('KOREA_CREDIT_5.csv',index=False)\n",
    "table_DF6.to_csv('KOREA_CREDIT_6.csv',index=False)\n",
    "table_DF7.to_csv('KOREA_CREDIT_7.csv',index=False)\n",
    "table_DF8.to_csv('KOREA_CREDIT_8.csv',index=False)"
   ]
  },
  {
   "cell_type": "code",
   "execution_count": 213,
   "id": "e4a163c6",
   "metadata": {},
   "outputs": [
    {
     "data": {
      "text/plain": [
       "'C:\\\\Users\\\\kuri9\\\\Desktop\\\\Crawling\\\\Desktop\\\\Project\\\\1_Data'"
      ]
     },
     "execution_count": 213,
     "metadata": {},
     "output_type": "execute_result"
    }
   ],
   "source": [
    "os.getcwd()"
   ]
  },
  {
   "cell_type": "code",
   "execution_count": null,
   "id": "3111e6b9",
   "metadata": {},
   "outputs": [],
   "source": []
  }
 ],
 "metadata": {
  "kernelspec": {
   "display_name": "Python 3",
   "language": "python",
   "name": "python3"
  },
  "language_info": {
   "codemirror_mode": {
    "name": "ipython",
    "version": 3
   },
   "file_extension": ".py",
   "mimetype": "text/x-python",
   "name": "python",
   "nbconvert_exporter": "python",
   "pygments_lexer": "ipython3",
   "version": "3.9.5"
  }
 },
 "nbformat": 4,
 "nbformat_minor": 5
}
