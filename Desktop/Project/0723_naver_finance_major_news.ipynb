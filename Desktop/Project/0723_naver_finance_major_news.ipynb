{
 "cells": [
  {
   "cell_type": "code",
   "execution_count": 3,
   "id": "8e7b6324",
   "metadata": {},
   "outputs": [],
   "source": [
    "from selenium import webdriver\n",
    "import pandas as pd\n",
    "from bs4 import BeautifulSoup\n",
    "import urllib.request as req\n",
    "import pandas as pd\n",
    "import requests\n",
    "from io import StringIO\n",
    "import requests\n",
    "import time\n",
    "from selenium.webdriver import Chrome\n",
    "from pdfminer.converter import TextConverter\n",
    "from pdfminer.layout import LAParams\n",
    "from pdfminer.pdfdocument import PDFDocument\n",
    "from pdfminer.pdfinterp import PDFResourceManager, PDFPageInterpreter\n",
    "from pdfminer.pdfpage import PDFPage\n",
    "from pdfminer.pdfparser import PDFParser\n",
    "import os\n",
    "from naver_crawler import *\n",
    "from selenium.webdriver.chrome.options import Options\n",
    "from selenium.webdriver.common.keys import Keys\n",
    "import time\n",
    "import re\n",
    "# import parser\n",
    "import datetime\n",
    "from urllib.request import urlopen\n",
    "import webbrowser\n",
    "import xmltodict\n",
    "import json\n",
    "from ast import literal_eval\n",
    "import lxml\n",
    "import numpy as np"
   ]
  },
  {
   "cell_type": "markdown",
   "id": "069f2653",
   "metadata": {},
   "source": [
    "### 네이버 금융 주요뉴스 (제목, 일자, 신문사, 내용, 기자명, 링크)\n",
    "url = \"https://finance.naver.com/news/mainnews.nhn\""
   ]
  },
  {
   "cell_type": "code",
   "execution_count": 4,
   "id": "350a9c8e",
   "metadata": {},
   "outputs": [
    {
     "data": {
      "text/plain": [
       "(5776, '2021-07-23', '2005-09-30')"
      ]
     },
     "execution_count": 4,
     "metadata": {},
     "output_type": "execute_result"
    }
   ],
   "source": [
    "# 2005-09-30 ~ date_list 만들기\n",
    "import time\n",
    "from datetime import date,timedelta\n",
    "today= date.today()\n",
    "date_lst=[]\n",
    "for i in range(5776):\n",
    "    date_lst.append((today - timedelta(days=i)).strftime(\"%Y-%m-%d\"))\n",
    "len(date_lst),date_lst[0],date_lst[-1]"
   ]
  },
  {
   "cell_type": "code",
   "execution_count": 5,
   "id": "d66f040b",
   "metadata": {
    "scrolled": true
   },
   "outputs": [
    {
     "name": "stdout",
     "output_type": "stream",
     "text": [
      "5776\n"
     ]
    },
    {
     "data": {
      "text/plain": [
       "['https://finance.naver.com/news/mainnews.nhn?date=2021-07-23',\n",
       " 'https://finance.naver.com/news/mainnews.nhn?date=2021-07-22',\n",
       " 'https://finance.naver.com/news/mainnews.nhn?date=2021-07-21',\n",
       " 'https://finance.naver.com/news/mainnews.nhn?date=2021-07-20',\n",
       " 'https://finance.naver.com/news/mainnews.nhn?date=2021-07-19']"
      ]
     },
     "execution_count": 5,
     "metadata": {},
     "output_type": "execute_result"
    }
   ],
   "source": [
    "dateurl_lst=[]\n",
    "for i in range(5776):\n",
    "    url = 'https://finance.naver.com/news/mainnews.nhn?date={}'.format(date_lst[i])\n",
    "#     print(url)\n",
    "    dateurl_lst.append(url)\n",
    "print(len(dateurl_lst))\n",
    "dateurl_lst[:5]"
   ]
  },
  {
   "cell_type": "code",
   "execution_count": 22,
   "id": "d936de6a",
   "metadata": {},
   "outputs": [],
   "source": [
    "df=pd.DataFrame()\n",
    "browser = Chrome()"
   ]
  },
  {
   "cell_type": "code",
   "execution_count": 23,
   "id": "5bdb9f4c",
   "metadata": {},
   "outputs": [
    {
     "data": {
      "text/plain": [
       "'https://finance.naver.com/news/mainnews.nhn?date=2021-02-21'"
      ]
     },
     "execution_count": 23,
     "metadata": {},
     "output_type": "execute_result"
    }
   ],
   "source": [
    "dateurl_lst[152]"
   ]
  },
  {
   "cell_type": "code",
   "execution_count": 27,
   "id": "96670bb5",
   "metadata": {
    "scrolled": true
   },
   "outputs": [
    {
     "name": "stdout",
     "output_type": "stream",
     "text": [
      "153 페이지 기사 개수 7\n",
      "153 페이지 7 번째 기사 record title                  [이번주 증시] 금리 상승 부담…外人 순유입 전환시 반도체 업종 유망\n",
      "date                                         2021-02-21 06:01\n",
      "kap                                                    아이뉴스24\n",
      "content     코스피 예상…NH證 \"2970~3130P\"·하나금투 \"3000~3160P\"[아이뉴스...\n",
      "reporter                                                  김종성\n",
      "link        https://finance.naver.com//news/news_read.nhn?...\n",
      "dtype: object\n",
      "154 페이지 기사 개수 3\n",
      "154 페이지 3 번째 기사 record title                               [유럽증시] 미 부양책·경제지표 주시 속 상승\n",
      "date                                         2021-02-20 03:16\n",
      "kap                                                      연합뉴스\n",
      "content     런던 증권거래소 로고[로이터=연합뉴스 자료사진](브뤼셀=연합뉴스) 김정은 특파원 =...\n",
      "reporter                                   김정은(kje@yna.co.kr)\n",
      "link        https://finance.naver.com//news/news_read.nhn?...\n",
      "dtype: object\n",
      "155 페이지 기사 개수 18\n",
      "155 페이지 18 번째 기사 record title                                 [유럽증시] 인플레이션 우려에 일제히 하락\n",
      "date                                         2021-02-19 02:43\n",
      "kap                                                      연합뉴스\n",
      "content     런던 증권거래소 로고 [로이터=연합뉴스 자료사진](이스탄불=연합뉴스) 김승욱 특파원...\n",
      "reporter                                 김승욱(kind3@yna.co.kr)\n",
      "link        https://finance.naver.com//news/news_read.nhn?...\n",
      "dtype: object\n",
      "156 페이지 기사 개수 15\n",
      "156 페이지 15 번째 기사 record title                                 [유럽증시] 차익 실현 매물에 일제히 하락\n",
      "date                                         2021-02-18 02:40\n",
      "kap                                                      연합뉴스\n",
      "content     런던 증권거래소 로고[로이터=연합뉴스 자료사진](제네바=연합뉴스) 임은진 특파원 =...\n",
      "reporter                                임은진(engine@yna.co.kr)\n",
      "link        https://finance.naver.com//news/news_read.nhn?...\n",
      "dtype: object\n",
      "157 페이지 기사 개수 18\n",
      "157 페이지 18 번째 기사 record title                                [유럽증시] 0.1∼0.3% 소폭 하락 마감\n",
      "date                                         2021-02-17 02:53\n",
      "kap                                                      연합뉴스\n",
      "content     독일 프랑크푸르트 증시 DAX. [로이터=연합뉴스 자료사진](로마=연합뉴스) 전성훈...\n",
      "reporter                                 전성훈(lucho@yna.co.kr)\n",
      "link        https://finance.naver.com//news/news_read.nhn?...\n",
      "dtype: object\n",
      "158 페이지 기사 개수 17\n",
      "158 페이지 17 번째 기사 record title                       [유럽증시] 경기회복 기대에 구리가격↑…1년새 최고치로 마감\n",
      "date                                         2021-02-16 03:08\n",
      "kap                                                      연합뉴스\n",
      "content     (베를린=연합뉴스) 이 율 특파원 = 유럽 주요 증시는 15일(현지시간) 경기회복 ...\n",
      "reporter                                 이율(yulsid@yna.co.kr)\n",
      "link        https://finance.naver.com//news/news_read.nhn?...\n",
      "dtype: object\n",
      "159 페이지 기사 개수 13\n",
      "159 페이지 13 번째 기사 record title                   [일일펀드동향] 韓 채권형펀드 7거래일 동안 3조1000억원 순유입\n",
      "date                                         2021-02-15 06:37\n",
      "kap                                                     아시아경제\n",
      "content     [아시아경제 이민지 기자] 국내 채권형펀드 시장에서 7거래일 동안 3조1094억원이...\n",
      "reporter                                이민지(ming@asiae.co.kr)\n",
      "link        https://finance.naver.com//news/news_read.nhn?...\n",
      "dtype: object\n",
      "160 페이지 기사 개수 4\n",
      "160 페이지 4 번째 기사 record title                    <뉴욕증시 주간전망> 방향성 탐색 장세…소비·FOMC 의사록 촉각\n",
      "date                                         2021-02-14 07:00\n",
      "kap                                                      연합뉴스\n",
      "content     (뉴욕=연합뉴스) 오진우 연합인포맥스 특파원 = 이번 주(15~19일) 뉴욕 증시는...\n",
      "reporter                       국제뉴스공용1(foreignnews@yna.co.kr)\n",
      "link        https://finance.naver.com//news/news_read.nhn?...\n",
      "dtype: object\n",
      "161 페이지 기사 개수 2\n",
      "161 페이지 2 번째 기사 record title                      [유럽증시] 미국 재정지원·백신 보급 확대 기대 속 상승 마감\n",
      "date                                         2021-02-13 02:55\n",
      "kap                                                      연합뉴스\n",
      "content     유럽 증시 상승  (GIF)[제작 남궁선. 게티이미지뱅크 제공](파리=연합뉴스) 현...\n",
      "reporter                                현혜란(runran@yna.co.kr)\n",
      "link        https://finance.naver.com//news/news_read.nhn?...\n",
      "dtype: object\n",
      "162 페이지 기사 개수 3\n",
      "162 페이지 3 번째 기사 record title                             [유럽증시] 미 부양책·기업 실적 주시 속 혼조세\n",
      "date                                         2021-02-12 03:13\n",
      "kap                                                      연합뉴스\n",
      "content     런던 증권거래소 로고[로이터=연합뉴스 자료사진](브뤼셀=연합뉴스) 김정은 특파원 =...\n",
      "reporter                                   김정은(kje@yna.co.kr)\n",
      "link        https://finance.naver.com//news/news_read.nhn?...\n",
      "dtype: object\n",
      "163 페이지 기사 개수 3\n",
      "163 페이지 3 번째 기사 record title                        [유럽증시] 미 부양책·독일 봉쇄 연장 주시하며 소폭 하락\n",
      "date                                         2021-02-11 02:48\n",
      "kap                                                      연합뉴스\n",
      "content     런던 증권거래소 로고 [로이터=연합뉴스 자료사진](이스탄불=연합뉴스) 김승욱 특파원...\n",
      "reporter                                 김승욱(kind3@yna.co.kr)\n",
      "link        https://finance.naver.com//news/news_read.nhn?...\n",
      "dtype: object\n",
      "164 페이지 기사 개수 20\n",
      "164 페이지 20 번째 기사 record title                         [유럽증시] 미국 부양책·독일 수출 급감 주시 속 혼조세\n",
      "date                                         2021-02-10 02:37\n",
      "kap                                                      연합뉴스\n",
      "content     런던 증권거래소 로고[로이터=연합뉴스 자료사진](제네바=연합뉴스) 임은진 특파원 =...\n",
      "reporter                                임은진(engine@yna.co.kr)\n",
      "link        https://finance.naver.com//news/news_read.nhn?...\n",
      "dtype: object\n",
      "165 페이지 기사 개수 19\n",
      "165 페이지 19 번째 기사 record title                          [유럽증시] 미국 대규모 부양책 기대감 속 소폭 상승세\n",
      "date                                         2021-02-09 03:49\n",
      "kap                                                      연합뉴스\n",
      "content     (워싱턴 AP=연합뉴스) 조 바이든 미국 대통령이 지난 3일(현지시간) 신종 코로나...\n",
      "reporter                                 전성훈(lucho@yna.co.kr)\n",
      "link        https://finance.naver.com//news/news_read.nhn?...\n",
      "dtype: object\n",
      "166 페이지 기사 개수 11\n"
     ]
    },
    {
     "ename": "URLError",
     "evalue": "<urlopen error [WinError 10014] 호출에 대한 포인터 인수를 사용하려는 동안 시스템에서 잘못된 포인터 주소를 감지했습니다>",
     "output_type": "error",
     "traceback": [
      "\u001b[1;31m---------------------------------------------------------------------------\u001b[0m",
      "\u001b[1;31mOSError\u001b[0m                                   Traceback (most recent call last)",
      "\u001b[1;32m~\\anaconda3\\envs\\gyuri\\lib\\urllib\\request.py\u001b[0m in \u001b[0;36mdo_open\u001b[1;34m(self, http_class, req, **http_conn_args)\u001b[0m\n\u001b[0;32m   1345\u001b[0m             \u001b[1;32mtry\u001b[0m\u001b[1;33m:\u001b[0m\u001b[1;33m\u001b[0m\u001b[1;33m\u001b[0m\u001b[0m\n\u001b[1;32m-> 1346\u001b[1;33m                 h.request(req.get_method(), req.selector, req.data, headers,\n\u001b[0m\u001b[0;32m   1347\u001b[0m                           encode_chunked=req.has_header('Transfer-encoding'))\n",
      "\u001b[1;32m~\\anaconda3\\envs\\gyuri\\lib\\http\\client.py\u001b[0m in \u001b[0;36mrequest\u001b[1;34m(self, method, url, body, headers, encode_chunked)\u001b[0m\n\u001b[0;32m   1252\u001b[0m         \u001b[1;34m\"\"\"Send a complete request to the server.\"\"\"\u001b[0m\u001b[1;33m\u001b[0m\u001b[1;33m\u001b[0m\u001b[0m\n\u001b[1;32m-> 1253\u001b[1;33m         \u001b[0mself\u001b[0m\u001b[1;33m.\u001b[0m\u001b[0m_send_request\u001b[0m\u001b[1;33m(\u001b[0m\u001b[0mmethod\u001b[0m\u001b[1;33m,\u001b[0m \u001b[0murl\u001b[0m\u001b[1;33m,\u001b[0m \u001b[0mbody\u001b[0m\u001b[1;33m,\u001b[0m \u001b[0mheaders\u001b[0m\u001b[1;33m,\u001b[0m \u001b[0mencode_chunked\u001b[0m\u001b[1;33m)\u001b[0m\u001b[1;33m\u001b[0m\u001b[1;33m\u001b[0m\u001b[0m\n\u001b[0m\u001b[0;32m   1254\u001b[0m \u001b[1;33m\u001b[0m\u001b[0m\n",
      "\u001b[1;32m~\\anaconda3\\envs\\gyuri\\lib\\http\\client.py\u001b[0m in \u001b[0;36m_send_request\u001b[1;34m(self, method, url, body, headers, encode_chunked)\u001b[0m\n\u001b[0;32m   1298\u001b[0m             \u001b[0mbody\u001b[0m \u001b[1;33m=\u001b[0m \u001b[0m_encode\u001b[0m\u001b[1;33m(\u001b[0m\u001b[0mbody\u001b[0m\u001b[1;33m,\u001b[0m \u001b[1;34m'body'\u001b[0m\u001b[1;33m)\u001b[0m\u001b[1;33m\u001b[0m\u001b[1;33m\u001b[0m\u001b[0m\n\u001b[1;32m-> 1299\u001b[1;33m         \u001b[0mself\u001b[0m\u001b[1;33m.\u001b[0m\u001b[0mendheaders\u001b[0m\u001b[1;33m(\u001b[0m\u001b[0mbody\u001b[0m\u001b[1;33m,\u001b[0m \u001b[0mencode_chunked\u001b[0m\u001b[1;33m=\u001b[0m\u001b[0mencode_chunked\u001b[0m\u001b[1;33m)\u001b[0m\u001b[1;33m\u001b[0m\u001b[1;33m\u001b[0m\u001b[0m\n\u001b[0m\u001b[0;32m   1300\u001b[0m \u001b[1;33m\u001b[0m\u001b[0m\n",
      "\u001b[1;32m~\\anaconda3\\envs\\gyuri\\lib\\http\\client.py\u001b[0m in \u001b[0;36mendheaders\u001b[1;34m(self, message_body, encode_chunked)\u001b[0m\n\u001b[0;32m   1247\u001b[0m             \u001b[1;32mraise\u001b[0m \u001b[0mCannotSendHeader\u001b[0m\u001b[1;33m(\u001b[0m\u001b[1;33m)\u001b[0m\u001b[1;33m\u001b[0m\u001b[1;33m\u001b[0m\u001b[0m\n\u001b[1;32m-> 1248\u001b[1;33m         \u001b[0mself\u001b[0m\u001b[1;33m.\u001b[0m\u001b[0m_send_output\u001b[0m\u001b[1;33m(\u001b[0m\u001b[0mmessage_body\u001b[0m\u001b[1;33m,\u001b[0m \u001b[0mencode_chunked\u001b[0m\u001b[1;33m=\u001b[0m\u001b[0mencode_chunked\u001b[0m\u001b[1;33m)\u001b[0m\u001b[1;33m\u001b[0m\u001b[1;33m\u001b[0m\u001b[0m\n\u001b[0m\u001b[0;32m   1249\u001b[0m \u001b[1;33m\u001b[0m\u001b[0m\n",
      "\u001b[1;32m~\\anaconda3\\envs\\gyuri\\lib\\http\\client.py\u001b[0m in \u001b[0;36m_send_output\u001b[1;34m(self, message_body, encode_chunked)\u001b[0m\n\u001b[0;32m   1007\u001b[0m         \u001b[1;32mdel\u001b[0m \u001b[0mself\u001b[0m\u001b[1;33m.\u001b[0m\u001b[0m_buffer\u001b[0m\u001b[1;33m[\u001b[0m\u001b[1;33m:\u001b[0m\u001b[1;33m]\u001b[0m\u001b[1;33m\u001b[0m\u001b[1;33m\u001b[0m\u001b[0m\n\u001b[1;32m-> 1008\u001b[1;33m         \u001b[0mself\u001b[0m\u001b[1;33m.\u001b[0m\u001b[0msend\u001b[0m\u001b[1;33m(\u001b[0m\u001b[0mmsg\u001b[0m\u001b[1;33m)\u001b[0m\u001b[1;33m\u001b[0m\u001b[1;33m\u001b[0m\u001b[0m\n\u001b[0m\u001b[0;32m   1009\u001b[0m \u001b[1;33m\u001b[0m\u001b[0m\n",
      "\u001b[1;32m~\\anaconda3\\envs\\gyuri\\lib\\http\\client.py\u001b[0m in \u001b[0;36msend\u001b[1;34m(self, data)\u001b[0m\n\u001b[0;32m    947\u001b[0m             \u001b[1;32mif\u001b[0m \u001b[0mself\u001b[0m\u001b[1;33m.\u001b[0m\u001b[0mauto_open\u001b[0m\u001b[1;33m:\u001b[0m\u001b[1;33m\u001b[0m\u001b[1;33m\u001b[0m\u001b[0m\n\u001b[1;32m--> 948\u001b[1;33m                 \u001b[0mself\u001b[0m\u001b[1;33m.\u001b[0m\u001b[0mconnect\u001b[0m\u001b[1;33m(\u001b[0m\u001b[1;33m)\u001b[0m\u001b[1;33m\u001b[0m\u001b[1;33m\u001b[0m\u001b[0m\n\u001b[0m\u001b[0;32m    949\u001b[0m             \u001b[1;32melse\u001b[0m\u001b[1;33m:\u001b[0m\u001b[1;33m\u001b[0m\u001b[1;33m\u001b[0m\u001b[0m\n",
      "\u001b[1;32m~\\anaconda3\\envs\\gyuri\\lib\\http\\client.py\u001b[0m in \u001b[0;36mconnect\u001b[1;34m(self)\u001b[0m\n\u001b[0;32m   1414\u001b[0m \u001b[1;33m\u001b[0m\u001b[0m\n\u001b[1;32m-> 1415\u001b[1;33m             \u001b[0msuper\u001b[0m\u001b[1;33m(\u001b[0m\u001b[1;33m)\u001b[0m\u001b[1;33m.\u001b[0m\u001b[0mconnect\u001b[0m\u001b[1;33m(\u001b[0m\u001b[1;33m)\u001b[0m\u001b[1;33m\u001b[0m\u001b[1;33m\u001b[0m\u001b[0m\n\u001b[0m\u001b[0;32m   1416\u001b[0m \u001b[1;33m\u001b[0m\u001b[0m\n",
      "\u001b[1;32m~\\anaconda3\\envs\\gyuri\\lib\\http\\client.py\u001b[0m in \u001b[0;36mconnect\u001b[1;34m(self)\u001b[0m\n\u001b[0;32m    918\u001b[0m         \u001b[1;34m\"\"\"Connect to the host and port specified in __init__.\"\"\"\u001b[0m\u001b[1;33m\u001b[0m\u001b[1;33m\u001b[0m\u001b[0m\n\u001b[1;32m--> 919\u001b[1;33m         self.sock = self._create_connection(\n\u001b[0m\u001b[0;32m    920\u001b[0m             (self.host,self.port), self.timeout, self.source_address)\n",
      "\u001b[1;32m~\\anaconda3\\envs\\gyuri\\lib\\socket.py\u001b[0m in \u001b[0;36mcreate_connection\u001b[1;34m(address, timeout, source_address)\u001b[0m\n\u001b[0;32m    842\u001b[0m         \u001b[1;32mtry\u001b[0m\u001b[1;33m:\u001b[0m\u001b[1;33m\u001b[0m\u001b[1;33m\u001b[0m\u001b[0m\n\u001b[1;32m--> 843\u001b[1;33m             \u001b[1;32mraise\u001b[0m \u001b[0merr\u001b[0m\u001b[1;33m\u001b[0m\u001b[1;33m\u001b[0m\u001b[0m\n\u001b[0m\u001b[0;32m    844\u001b[0m         \u001b[1;32mfinally\u001b[0m\u001b[1;33m:\u001b[0m\u001b[1;33m\u001b[0m\u001b[1;33m\u001b[0m\u001b[0m\n",
      "\u001b[1;32m~\\anaconda3\\envs\\gyuri\\lib\\socket.py\u001b[0m in \u001b[0;36mcreate_connection\u001b[1;34m(address, timeout, source_address)\u001b[0m\n\u001b[0;32m    830\u001b[0m                 \u001b[0msock\u001b[0m\u001b[1;33m.\u001b[0m\u001b[0mbind\u001b[0m\u001b[1;33m(\u001b[0m\u001b[0msource_address\u001b[0m\u001b[1;33m)\u001b[0m\u001b[1;33m\u001b[0m\u001b[1;33m\u001b[0m\u001b[0m\n\u001b[1;32m--> 831\u001b[1;33m             \u001b[0msock\u001b[0m\u001b[1;33m.\u001b[0m\u001b[0mconnect\u001b[0m\u001b[1;33m(\u001b[0m\u001b[0msa\u001b[0m\u001b[1;33m)\u001b[0m\u001b[1;33m\u001b[0m\u001b[1;33m\u001b[0m\u001b[0m\n\u001b[0m\u001b[0;32m    832\u001b[0m             \u001b[1;31m# Break explicitly a reference cycle\u001b[0m\u001b[1;33m\u001b[0m\u001b[1;33m\u001b[0m\u001b[1;33m\u001b[0m\u001b[0m\n",
      "\u001b[1;31mOSError\u001b[0m: [WinError 10014] 호출에 대한 포인터 인수를 사용하려는 동안 시스템에서 잘못된 포인터 주소를 감지했습니다",
      "\nDuring handling of the above exception, another exception occurred:\n",
      "\u001b[1;31mURLError\u001b[0m                                  Traceback (most recent call last)",
      "\u001b[1;32m<ipython-input-27-4c98f84dfeb2>\u001b[0m in \u001b[0;36m<module>\u001b[1;34m\u001b[0m\n\u001b[0;32m     16\u001b[0m \u001b[1;33m\u001b[0m\u001b[0m\n\u001b[0;32m     17\u001b[0m         \u001b[0murl\u001b[0m \u001b[1;33m=\u001b[0m \u001b[1;34m'https://finance.naver.com/'\u001b[0m\u001b[1;33m+\u001b[0m\u001b[0mlink_lst\u001b[0m\u001b[1;33m[\u001b[0m\u001b[0mk\u001b[0m\u001b[1;33m]\u001b[0m\u001b[1;33m\u001b[0m\u001b[1;33m\u001b[0m\u001b[0m\n\u001b[1;32m---> 18\u001b[1;33m         \u001b[0mhtml2\u001b[0m \u001b[1;33m=\u001b[0m \u001b[0murlopen\u001b[0m\u001b[1;33m(\u001b[0m\u001b[0murl\u001b[0m\u001b[1;33m)\u001b[0m\u001b[1;33m\u001b[0m\u001b[1;33m\u001b[0m\u001b[0m\n\u001b[0m\u001b[0;32m     19\u001b[0m         \u001b[0msour2\u001b[0m \u001b[1;33m=\u001b[0m \u001b[0mBeautifulSoup\u001b[0m\u001b[1;33m(\u001b[0m\u001b[0mhtml2\u001b[0m\u001b[1;33m.\u001b[0m\u001b[0mread\u001b[0m\u001b[1;33m(\u001b[0m\u001b[1;33m)\u001b[0m\u001b[1;33m,\u001b[0m \u001b[1;34m\"html.parser\"\u001b[0m\u001b[1;33m)\u001b[0m\u001b[1;33m\u001b[0m\u001b[1;33m\u001b[0m\u001b[0m\n\u001b[0;32m     20\u001b[0m \u001b[1;33m\u001b[0m\u001b[0m\n",
      "\u001b[1;32m~\\anaconda3\\envs\\gyuri\\lib\\urllib\\request.py\u001b[0m in \u001b[0;36murlopen\u001b[1;34m(url, data, timeout, cafile, capath, cadefault, context)\u001b[0m\n\u001b[0;32m    212\u001b[0m     \u001b[1;32melse\u001b[0m\u001b[1;33m:\u001b[0m\u001b[1;33m\u001b[0m\u001b[1;33m\u001b[0m\u001b[0m\n\u001b[0;32m    213\u001b[0m         \u001b[0mopener\u001b[0m \u001b[1;33m=\u001b[0m \u001b[0m_opener\u001b[0m\u001b[1;33m\u001b[0m\u001b[1;33m\u001b[0m\u001b[0m\n\u001b[1;32m--> 214\u001b[1;33m     \u001b[1;32mreturn\u001b[0m \u001b[0mopener\u001b[0m\u001b[1;33m.\u001b[0m\u001b[0mopen\u001b[0m\u001b[1;33m(\u001b[0m\u001b[0murl\u001b[0m\u001b[1;33m,\u001b[0m \u001b[0mdata\u001b[0m\u001b[1;33m,\u001b[0m \u001b[0mtimeout\u001b[0m\u001b[1;33m)\u001b[0m\u001b[1;33m\u001b[0m\u001b[1;33m\u001b[0m\u001b[0m\n\u001b[0m\u001b[0;32m    215\u001b[0m \u001b[1;33m\u001b[0m\u001b[0m\n\u001b[0;32m    216\u001b[0m \u001b[1;32mdef\u001b[0m \u001b[0minstall_opener\u001b[0m\u001b[1;33m(\u001b[0m\u001b[0mopener\u001b[0m\u001b[1;33m)\u001b[0m\u001b[1;33m:\u001b[0m\u001b[1;33m\u001b[0m\u001b[1;33m\u001b[0m\u001b[0m\n",
      "\u001b[1;32m~\\anaconda3\\envs\\gyuri\\lib\\urllib\\request.py\u001b[0m in \u001b[0;36mopen\u001b[1;34m(self, fullurl, data, timeout)\u001b[0m\n\u001b[0;32m    515\u001b[0m \u001b[1;33m\u001b[0m\u001b[0m\n\u001b[0;32m    516\u001b[0m         \u001b[0msys\u001b[0m\u001b[1;33m.\u001b[0m\u001b[0maudit\u001b[0m\u001b[1;33m(\u001b[0m\u001b[1;34m'urllib.Request'\u001b[0m\u001b[1;33m,\u001b[0m \u001b[0mreq\u001b[0m\u001b[1;33m.\u001b[0m\u001b[0mfull_url\u001b[0m\u001b[1;33m,\u001b[0m \u001b[0mreq\u001b[0m\u001b[1;33m.\u001b[0m\u001b[0mdata\u001b[0m\u001b[1;33m,\u001b[0m \u001b[0mreq\u001b[0m\u001b[1;33m.\u001b[0m\u001b[0mheaders\u001b[0m\u001b[1;33m,\u001b[0m \u001b[0mreq\u001b[0m\u001b[1;33m.\u001b[0m\u001b[0mget_method\u001b[0m\u001b[1;33m(\u001b[0m\u001b[1;33m)\u001b[0m\u001b[1;33m)\u001b[0m\u001b[1;33m\u001b[0m\u001b[1;33m\u001b[0m\u001b[0m\n\u001b[1;32m--> 517\u001b[1;33m         \u001b[0mresponse\u001b[0m \u001b[1;33m=\u001b[0m \u001b[0mself\u001b[0m\u001b[1;33m.\u001b[0m\u001b[0m_open\u001b[0m\u001b[1;33m(\u001b[0m\u001b[0mreq\u001b[0m\u001b[1;33m,\u001b[0m \u001b[0mdata\u001b[0m\u001b[1;33m)\u001b[0m\u001b[1;33m\u001b[0m\u001b[1;33m\u001b[0m\u001b[0m\n\u001b[0m\u001b[0;32m    518\u001b[0m \u001b[1;33m\u001b[0m\u001b[0m\n\u001b[0;32m    519\u001b[0m         \u001b[1;31m# post-process response\u001b[0m\u001b[1;33m\u001b[0m\u001b[1;33m\u001b[0m\u001b[1;33m\u001b[0m\u001b[0m\n",
      "\u001b[1;32m~\\anaconda3\\envs\\gyuri\\lib\\urllib\\request.py\u001b[0m in \u001b[0;36m_open\u001b[1;34m(self, req, data)\u001b[0m\n\u001b[0;32m    532\u001b[0m \u001b[1;33m\u001b[0m\u001b[0m\n\u001b[0;32m    533\u001b[0m         \u001b[0mprotocol\u001b[0m \u001b[1;33m=\u001b[0m \u001b[0mreq\u001b[0m\u001b[1;33m.\u001b[0m\u001b[0mtype\u001b[0m\u001b[1;33m\u001b[0m\u001b[1;33m\u001b[0m\u001b[0m\n\u001b[1;32m--> 534\u001b[1;33m         result = self._call_chain(self.handle_open, protocol, protocol +\n\u001b[0m\u001b[0;32m    535\u001b[0m                                   '_open', req)\n\u001b[0;32m    536\u001b[0m         \u001b[1;32mif\u001b[0m \u001b[0mresult\u001b[0m\u001b[1;33m:\u001b[0m\u001b[1;33m\u001b[0m\u001b[1;33m\u001b[0m\u001b[0m\n",
      "\u001b[1;32m~\\anaconda3\\envs\\gyuri\\lib\\urllib\\request.py\u001b[0m in \u001b[0;36m_call_chain\u001b[1;34m(self, chain, kind, meth_name, *args)\u001b[0m\n\u001b[0;32m    492\u001b[0m         \u001b[1;32mfor\u001b[0m \u001b[0mhandler\u001b[0m \u001b[1;32min\u001b[0m \u001b[0mhandlers\u001b[0m\u001b[1;33m:\u001b[0m\u001b[1;33m\u001b[0m\u001b[1;33m\u001b[0m\u001b[0m\n\u001b[0;32m    493\u001b[0m             \u001b[0mfunc\u001b[0m \u001b[1;33m=\u001b[0m \u001b[0mgetattr\u001b[0m\u001b[1;33m(\u001b[0m\u001b[0mhandler\u001b[0m\u001b[1;33m,\u001b[0m \u001b[0mmeth_name\u001b[0m\u001b[1;33m)\u001b[0m\u001b[1;33m\u001b[0m\u001b[1;33m\u001b[0m\u001b[0m\n\u001b[1;32m--> 494\u001b[1;33m             \u001b[0mresult\u001b[0m \u001b[1;33m=\u001b[0m \u001b[0mfunc\u001b[0m\u001b[1;33m(\u001b[0m\u001b[1;33m*\u001b[0m\u001b[0margs\u001b[0m\u001b[1;33m)\u001b[0m\u001b[1;33m\u001b[0m\u001b[1;33m\u001b[0m\u001b[0m\n\u001b[0m\u001b[0;32m    495\u001b[0m             \u001b[1;32mif\u001b[0m \u001b[0mresult\u001b[0m \u001b[1;32mis\u001b[0m \u001b[1;32mnot\u001b[0m \u001b[1;32mNone\u001b[0m\u001b[1;33m:\u001b[0m\u001b[1;33m\u001b[0m\u001b[1;33m\u001b[0m\u001b[0m\n\u001b[0;32m    496\u001b[0m                 \u001b[1;32mreturn\u001b[0m \u001b[0mresult\u001b[0m\u001b[1;33m\u001b[0m\u001b[1;33m\u001b[0m\u001b[0m\n",
      "\u001b[1;32m~\\anaconda3\\envs\\gyuri\\lib\\urllib\\request.py\u001b[0m in \u001b[0;36mhttps_open\u001b[1;34m(self, req)\u001b[0m\n\u001b[0;32m   1387\u001b[0m \u001b[1;33m\u001b[0m\u001b[0m\n\u001b[0;32m   1388\u001b[0m         \u001b[1;32mdef\u001b[0m \u001b[0mhttps_open\u001b[0m\u001b[1;33m(\u001b[0m\u001b[0mself\u001b[0m\u001b[1;33m,\u001b[0m \u001b[0mreq\u001b[0m\u001b[1;33m)\u001b[0m\u001b[1;33m:\u001b[0m\u001b[1;33m\u001b[0m\u001b[1;33m\u001b[0m\u001b[0m\n\u001b[1;32m-> 1389\u001b[1;33m             return self.do_open(http.client.HTTPSConnection, req,\n\u001b[0m\u001b[0;32m   1390\u001b[0m                 context=self._context, check_hostname=self._check_hostname)\n\u001b[0;32m   1391\u001b[0m \u001b[1;33m\u001b[0m\u001b[0m\n",
      "\u001b[1;32m~\\anaconda3\\envs\\gyuri\\lib\\urllib\\request.py\u001b[0m in \u001b[0;36mdo_open\u001b[1;34m(self, http_class, req, **http_conn_args)\u001b[0m\n\u001b[0;32m   1347\u001b[0m                           encode_chunked=req.has_header('Transfer-encoding'))\n\u001b[0;32m   1348\u001b[0m             \u001b[1;32mexcept\u001b[0m \u001b[0mOSError\u001b[0m \u001b[1;32mas\u001b[0m \u001b[0merr\u001b[0m\u001b[1;33m:\u001b[0m \u001b[1;31m# timeout error\u001b[0m\u001b[1;33m\u001b[0m\u001b[1;33m\u001b[0m\u001b[0m\n\u001b[1;32m-> 1349\u001b[1;33m                 \u001b[1;32mraise\u001b[0m \u001b[0mURLError\u001b[0m\u001b[1;33m(\u001b[0m\u001b[0merr\u001b[0m\u001b[1;33m)\u001b[0m\u001b[1;33m\u001b[0m\u001b[1;33m\u001b[0m\u001b[0m\n\u001b[0m\u001b[0;32m   1350\u001b[0m             \u001b[0mr\u001b[0m \u001b[1;33m=\u001b[0m \u001b[0mh\u001b[0m\u001b[1;33m.\u001b[0m\u001b[0mgetresponse\u001b[0m\u001b[1;33m(\u001b[0m\u001b[1;33m)\u001b[0m\u001b[1;33m\u001b[0m\u001b[1;33m\u001b[0m\u001b[0m\n\u001b[0;32m   1351\u001b[0m         \u001b[1;32mexcept\u001b[0m\u001b[1;33m:\u001b[0m\u001b[1;33m\u001b[0m\u001b[1;33m\u001b[0m\u001b[0m\n",
      "\u001b[1;31mURLError\u001b[0m: <urlopen error [WinError 10014] 호출에 대한 포인터 인수를 사용하려는 동안 시스템에서 잘못된 포인터 주소를 감지했습니다>"
     ]
    }
   ],
   "source": [
    "for i in range(152,len(dateurl_lst)):\n",
    "    \n",
    "    browser.get(dateurl_lst[i])\n",
    "    result = browser.page_source\n",
    "    soup = BeautifulSoup(result, 'html.parser')\n",
    "    doc = soup.find_all('dt')\n",
    "    \n",
    "    # 한 페이지의 링크모으기\n",
    "    link_lst=[]\n",
    "    for j in range(1,len(doc)):\n",
    "        link_lst.append(doc[j].find('a').attrs['href'])\n",
    "    print(str(i+1),'페이지 기사 개수',len(link_lst))\n",
    "\n",
    "    # 링크마다 들어가서 정보 모으기    \n",
    "    for k in range(len(link_lst)):\n",
    "\n",
    "        url = 'https://finance.naver.com/'+link_lst[k]\n",
    "        html2 = urlopen(url)\n",
    "        sour2 = BeautifulSoup(html2.read(), \"html.parser\")\n",
    "\n",
    "        title = sour2.find_all(\"h3\")[1].text.replace('\\t',' ').replace('\\n',' ').strip()\n",
    "        date = sour2.find_all('span',{'class':'article_date'})[0].text\n",
    "        try:\n",
    "            kap = sour2.find_all('span',{'class':'press'})[0].find_all('img')[0]['title']\n",
    "        except:\n",
    "            kap = np.nan\n",
    "        content = sour2.find_all('div',{'class':'articleCont'})[0].text.replace('\\t',' ').replace('\\n',' ').strip()\n",
    "        try:\n",
    "            reporter = sour2.find_all('div',{'class':'card_journalist_byline'})[0].text.replace('\\t','').replace('\\n','').strip()\n",
    "        except:\n",
    "            reporter = np.nan\n",
    "\n",
    "        record  = pd.Series([title,date,kap,content,reporter,url],index = ['title','date','kap','content','reporter','link'])\n",
    "#         print(record)\n",
    "\n",
    "        df = df.append(record, ignore_index = True)\n",
    "    \n",
    "    print(str(i+1),'페이지',str(k+1),'번째 기사 record',record)"
   ]
  },
  {
   "cell_type": "code",
   "execution_count": null,
   "id": "aff08ffe",
   "metadata": {},
   "outputs": [],
   "source": [
    "df.shape"
   ]
  },
  {
   "cell_type": "code",
   "execution_count": null,
   "id": "56775b35",
   "metadata": {},
   "outputs": [],
   "source": [
    "df.drop_duplicates().shape"
   ]
  },
  {
   "cell_type": "markdown",
   "id": "e8795930",
   "metadata": {},
   "source": [
    "### DF 저장"
   ]
  },
  {
   "cell_type": "code",
   "execution_count": 29,
   "id": "16a550a3",
   "metadata": {},
   "outputs": [
    {
     "data": {
      "text/plain": [
       "'C:\\\\Users\\\\kuri9\\\\Desktop\\\\Crawling\\\\Desktop\\\\Project\\\\1_Data'"
      ]
     },
     "execution_count": 29,
     "metadata": {},
     "output_type": "execute_result"
    }
   ],
   "source": [
    "os.chdir('C:\\\\Users\\\\kuri9\\\\Desktop\\\\Crawling\\\\Desktop\\\\Project\\\\1_Data')\n",
    "os.getcwd()"
   ]
  },
  {
   "cell_type": "code",
   "execution_count": 30,
   "id": "8ef8746a",
   "metadata": {},
   "outputs": [],
   "source": [
    "df.to_csv('naver_finance_major_news.csv',index=False)"
   ]
  },
  {
   "cell_type": "code",
   "execution_count": 31,
   "id": "e019b212",
   "metadata": {},
   "outputs": [
    {
     "data": {
      "text/plain": [
       "(144, 6)"
      ]
     },
     "execution_count": 31,
     "metadata": {},
     "output_type": "execute_result"
    }
   ],
   "source": [
    "a = pd.read_csv('naver_finance_major_news.csv')\n",
    "a.shape"
   ]
  },
  {
   "cell_type": "code",
   "execution_count": 32,
   "id": "795f0e9d",
   "metadata": {
    "scrolled": true
   },
   "outputs": [
    {
     "data": {
      "text/html": [
       "<div>\n",
       "<style scoped>\n",
       "    .dataframe tbody tr th:only-of-type {\n",
       "        vertical-align: middle;\n",
       "    }\n",
       "\n",
       "    .dataframe tbody tr th {\n",
       "        vertical-align: top;\n",
       "    }\n",
       "\n",
       "    .dataframe thead th {\n",
       "        text-align: right;\n",
       "    }\n",
       "</style>\n",
       "<table border=\"1\" class=\"dataframe\">\n",
       "  <thead>\n",
       "    <tr style=\"text-align: right;\">\n",
       "      <th></th>\n",
       "      <th>content</th>\n",
       "      <th>date</th>\n",
       "      <th>kap</th>\n",
       "      <th>link</th>\n",
       "      <th>reporter</th>\n",
       "      <th>title</th>\n",
       "    </tr>\n",
       "  </thead>\n",
       "  <tbody>\n",
       "    <tr>\n",
       "      <th>0</th>\n",
       "      <td>이번 주 주식시장은 제롬 파월 미국 연방준비제도(Fed) 의장의 상원 청문회가 주요...</td>\n",
       "      <td>2021-02-21 18:04</td>\n",
       "      <td>파이낸셜뉴스</td>\n",
       "      <td>https://finance.naver.com//news/news_read.nhn?...</td>\n",
       "      <td>NaN</td>\n",
       "      <td>숨고르는 증시 ‘오를까 내릴까’ 23~24일 파월의 입에 달렸다 [주간 증시 전망]</td>\n",
       "    </tr>\n",
       "    <tr>\n",
       "      <th>1</th>\n",
       "      <td>[파이낸셜뉴스] 이번 주 주식시장은 제롬 파월 미국 연방준비제도(Fed) 의장의 상...</td>\n",
       "      <td>2021-02-21 15:22</td>\n",
       "      <td>파이낸셜뉴스</td>\n",
       "      <td>https://finance.naver.com//news/news_read.nhn?...</td>\n",
       "      <td>김민기(kmk@fnnews.com)</td>\n",
       "      <td>인플레 우려 속 파월 연준 의장 발언 주목[주간 증시 전망]</td>\n",
       "    </tr>\n",
       "    <tr>\n",
       "      <th>2</th>\n",
       "      <td>美 10년물 국채금리 상승에 하락외국인 현선물 동반 차익실현韓美 중앙은행 총재 발언...</td>\n",
       "      <td>2021-02-21 13:24</td>\n",
       "      <td>이데일리</td>\n",
       "      <td>https://finance.naver.com//news/news_read.nhn?...</td>\n",
       "      <td>박정수(ppjs@edaily.co.kr)</td>\n",
       "      <td>[주간증시전망]인플레 우려…파월 의장 발언 주목</td>\n",
       "    </tr>\n",
       "    <tr>\n",
       "      <th>3</th>\n",
       "      <td>한주 국내 주식펀드 평균 -0.52%…中펀드는 3.29%中, 코로나 가장 빨리 벗어...</td>\n",
       "      <td>2021-02-21 08:01</td>\n",
       "      <td>이데일리</td>\n",
       "      <td>https://finance.naver.com//news/news_read.nhn?...</td>\n",
       "      <td>이슬기(surugi@edaily.co.kr)</td>\n",
       "      <td>[펀드와치]中증시 날자 중국펀드 '好好'</td>\n",
       "    </tr>\n",
       "    <tr>\n",
       "      <th>4</th>\n",
       "      <td>위변조 불가능한 블록체인 특징으로 기부금 사용처 투명성↑체리, 스마트폰으로 기부와 ...</td>\n",
       "      <td>2021-02-21 07:12</td>\n",
       "      <td>뉴시스</td>\n",
       "      <td>https://finance.naver.com//news/news_read.nhn?...</td>\n",
       "      <td>이재은 기자(lje@newsis.com)</td>\n",
       "      <td>[블록체인 오딧세이]\"투명하게 기부\"…MZ세대 호응에 누적 기부금 9억 돌파</td>\n",
       "    </tr>\n",
       "  </tbody>\n",
       "</table>\n",
       "</div>"
      ],
      "text/plain": [
       "                                             content              date  \\\n",
       "0  이번 주 주식시장은 제롬 파월 미국 연방준비제도(Fed) 의장의 상원 청문회가 주요...  2021-02-21 18:04   \n",
       "1  [파이낸셜뉴스] 이번 주 주식시장은 제롬 파월 미국 연방준비제도(Fed) 의장의 상...  2021-02-21 15:22   \n",
       "2  美 10년물 국채금리 상승에 하락외국인 현선물 동반 차익실현韓美 중앙은행 총재 발언...  2021-02-21 13:24   \n",
       "3  한주 국내 주식펀드 평균 -0.52%…中펀드는 3.29%中, 코로나 가장 빨리 벗어...  2021-02-21 08:01   \n",
       "4  위변조 불가능한 블록체인 특징으로 기부금 사용처 투명성↑체리, 스마트폰으로 기부와 ...  2021-02-21 07:12   \n",
       "\n",
       "      kap                                               link  \\\n",
       "0  파이낸셜뉴스  https://finance.naver.com//news/news_read.nhn?...   \n",
       "1  파이낸셜뉴스  https://finance.naver.com//news/news_read.nhn?...   \n",
       "2    이데일리  https://finance.naver.com//news/news_read.nhn?...   \n",
       "3    이데일리  https://finance.naver.com//news/news_read.nhn?...   \n",
       "4     뉴시스  https://finance.naver.com//news/news_read.nhn?...   \n",
       "\n",
       "                   reporter                                           title  \n",
       "0                       NaN  숨고르는 증시 ‘오를까 내릴까’ 23~24일 파월의 입에 달렸다 [주간 증시 전망]  \n",
       "1       김민기(kmk@fnnews.com)               인플레 우려 속 파월 연준 의장 발언 주목[주간 증시 전망]  \n",
       "2    박정수(ppjs@edaily.co.kr)                      [주간증시전망]인플레 우려…파월 의장 발언 주목  \n",
       "3  이슬기(surugi@edaily.co.kr)                          [펀드와치]中증시 날자 중국펀드 '好好'  \n",
       "4    이재은 기자(lje@newsis.com)      [블록체인 오딧세이]\"투명하게 기부\"…MZ세대 호응에 누적 기부금 9억 돌파  "
      ]
     },
     "execution_count": 32,
     "metadata": {},
     "output_type": "execute_result"
    }
   ],
   "source": [
    "a.head()"
   ]
  },
  {
   "cell_type": "code",
   "execution_count": null,
   "id": "aca75d4a",
   "metadata": {},
   "outputs": [],
   "source": []
  }
 ],
 "metadata": {
  "kernelspec": {
   "display_name": "Python 3",
   "language": "python",
   "name": "python3"
  },
  "language_info": {
   "codemirror_mode": {
    "name": "ipython",
    "version": 3
   },
   "file_extension": ".py",
   "mimetype": "text/x-python",
   "name": "python",
   "nbconvert_exporter": "python",
   "pygments_lexer": "ipython3",
   "version": "3.9.5"
  }
 },
 "nbformat": 4,
 "nbformat_minor": 5
}
