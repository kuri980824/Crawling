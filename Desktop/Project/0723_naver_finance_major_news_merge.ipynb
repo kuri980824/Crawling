{
 "cells": [
  {
   "cell_type": "code",
   "execution_count": 2,
   "id": "54392aa9",
   "metadata": {},
   "outputs": [],
   "source": [
    "from selenium import webdriver\n",
    "import pandas as pd\n",
    "from bs4 import BeautifulSoup\n",
    "import urllib.request as req\n",
    "import pandas as pd\n",
    "import requests\n",
    "from io import StringIO\n",
    "import requests\n",
    "import time\n",
    "from selenium.webdriver import Chrome\n",
    "from pdfminer.converter import TextConverter\n",
    "from pdfminer.layout import LAParams\n",
    "from pdfminer.pdfdocument import PDFDocument\n",
    "from pdfminer.pdfinterp import PDFResourceManager, PDFPageInterpreter\n",
    "from pdfminer.pdfpage import PDFPage\n",
    "from pdfminer.pdfparser import PDFParser\n",
    "import os\n",
    "from naver_crawler import *\n",
    "from selenium.webdriver.chrome.options import Options\n",
    "from selenium.webdriver.common.keys import Keys\n",
    "import time\n",
    "import re\n",
    "# import parser\n",
    "import datetime\n",
    "from urllib.request import urlopen\n",
    "import webbrowser\n",
    "import xmltodict\n",
    "import json\n",
    "from ast import literal_eval\n",
    "import lxml\n",
    "import numpy as np\n",
    "from selenium import webdriver\n",
    "\n",
    "options = webdriver.ChromeOptions()\n",
    "options.add_argument(\"Mozilla/5.0 (Windows NT 10.0; Win64; x64) AppleWebKit/537.36 (KHTML, like Gecko) Chrome/92.0.4515.107 Safari/537.36\")"
   ]
  },
  {
   "cell_type": "code",
   "execution_count": null,
   "id": "398f082d",
   "metadata": {},
   "outputs": [],
   "source": [
    "os.getcwd()"
   ]
  },
  {
   "cell_type": "code",
   "execution_count": 6,
   "id": "1b980473",
   "metadata": {},
   "outputs": [],
   "source": [
    "DF1 = pd.read_csv('1_Data\\\\naver_finance_major_news.csv')\n",
    "DF2 = pd.read_csv('1_Data\\\\naver_finance_major_news_2.csv')\n",
    "DF3 = pd.read_csv('1_Data\\\\naver_finance_major_news_3.csv')\n",
    "DF4 = pd.read_csv('1_Data\\\\naver_finance_Major_news_4.csv')\n",
    "DF5 = pd.read_csv('1_Data\\\\naver_finance_Major_news_5.csv')"
   ]
  },
  {
   "cell_type": "code",
   "execution_count": 7,
   "id": "bea05156",
   "metadata": {},
   "outputs": [
    {
     "data": {
      "text/plain": [
       "(36197, 6)"
      ]
     },
     "execution_count": 7,
     "metadata": {},
     "output_type": "execute_result"
    }
   ],
   "source": [
    "pd.concat([DF1,DF2,DF3,DF4,DF5],axis=0).drop_duplicates().shape"
   ]
  },
  {
   "cell_type": "code",
   "execution_count": 8,
   "id": "a262b1df",
   "metadata": {},
   "outputs": [],
   "source": [
    "df_mid=pd.concat([DF1,DF2,DF3,DF4,DF5],axis=0).drop_duplicates()"
   ]
  },
  {
   "cell_type": "code",
   "execution_count": 9,
   "id": "92a82101",
   "metadata": {},
   "outputs": [
    {
     "data": {
      "text/plain": [
       "(36197, 6)"
      ]
     },
     "execution_count": 9,
     "metadata": {},
     "output_type": "execute_result"
    }
   ],
   "source": [
    "df_mid.shape"
   ]
  },
  {
   "cell_type": "code",
   "execution_count": 10,
   "id": "b47e5a0a",
   "metadata": {},
   "outputs": [
    {
     "data": {
      "text/html": [
       "<div>\n",
       "<style scoped>\n",
       "    .dataframe tbody tr th:only-of-type {\n",
       "        vertical-align: middle;\n",
       "    }\n",
       "\n",
       "    .dataframe tbody tr th {\n",
       "        vertical-align: top;\n",
       "    }\n",
       "\n",
       "    .dataframe thead th {\n",
       "        text-align: right;\n",
       "    }\n",
       "</style>\n",
       "<table border=\"1\" class=\"dataframe\">\n",
       "  <thead>\n",
       "    <tr style=\"text-align: right;\">\n",
       "      <th></th>\n",
       "      <th>content</th>\n",
       "      <th>date</th>\n",
       "      <th>kap</th>\n",
       "      <th>link</th>\n",
       "      <th>reporter</th>\n",
       "      <th>title</th>\n",
       "    </tr>\n",
       "  </thead>\n",
       "  <tbody>\n",
       "    <tr>\n",
       "      <th>0</th>\n",
       "      <td>이번 주 주식시장은 제롬 파월 미국 연방준비제도(Fed) 의장의 상원 청문회가 주요...</td>\n",
       "      <td>2021-02-21 18:04</td>\n",
       "      <td>파이낸셜뉴스</td>\n",
       "      <td>https://finance.naver.com//news/news_read.nhn?...</td>\n",
       "      <td>NaN</td>\n",
       "      <td>숨고르는 증시 ‘오를까 내릴까’ 23~24일 파월의 입에 달렸다 [주간 증시 전망]</td>\n",
       "    </tr>\n",
       "    <tr>\n",
       "      <th>1</th>\n",
       "      <td>[파이낸셜뉴스] 이번 주 주식시장은 제롬 파월 미국 연방준비제도(Fed) 의장의 상...</td>\n",
       "      <td>2021-02-21 15:22</td>\n",
       "      <td>파이낸셜뉴스</td>\n",
       "      <td>https://finance.naver.com//news/news_read.nhn?...</td>\n",
       "      <td>김민기(kmk@fnnews.com)</td>\n",
       "      <td>인플레 우려 속 파월 연준 의장 발언 주목[주간 증시 전망]</td>\n",
       "    </tr>\n",
       "    <tr>\n",
       "      <th>2</th>\n",
       "      <td>美 10년물 국채금리 상승에 하락외국인 현선물 동반 차익실현韓美 중앙은행 총재 발언...</td>\n",
       "      <td>2021-02-21 13:24</td>\n",
       "      <td>이데일리</td>\n",
       "      <td>https://finance.naver.com//news/news_read.nhn?...</td>\n",
       "      <td>박정수(ppjs@edaily.co.kr)</td>\n",
       "      <td>[주간증시전망]인플레 우려…파월 의장 발언 주목</td>\n",
       "    </tr>\n",
       "    <tr>\n",
       "      <th>3</th>\n",
       "      <td>한주 국내 주식펀드 평균 -0.52%…中펀드는 3.29%中, 코로나 가장 빨리 벗어...</td>\n",
       "      <td>2021-02-21 08:01</td>\n",
       "      <td>이데일리</td>\n",
       "      <td>https://finance.naver.com//news/news_read.nhn?...</td>\n",
       "      <td>이슬기(surugi@edaily.co.kr)</td>\n",
       "      <td>[펀드와치]中증시 날자 중국펀드 '好好'</td>\n",
       "    </tr>\n",
       "    <tr>\n",
       "      <th>4</th>\n",
       "      <td>위변조 불가능한 블록체인 특징으로 기부금 사용처 투명성↑체리, 스마트폰으로 기부와 ...</td>\n",
       "      <td>2021-02-21 07:12</td>\n",
       "      <td>뉴시스</td>\n",
       "      <td>https://finance.naver.com//news/news_read.nhn?...</td>\n",
       "      <td>이재은 기자(lje@newsis.com)</td>\n",
       "      <td>[블록체인 오딧세이]\"투명하게 기부\"…MZ세대 호응에 누적 기부금 9억 돌파</td>\n",
       "    </tr>\n",
       "    <tr>\n",
       "      <th>...</th>\n",
       "      <td>...</td>\n",
       "      <td>...</td>\n",
       "      <td>...</td>\n",
       "      <td>...</td>\n",
       "      <td>...</td>\n",
       "      <td>...</td>\n",
       "    </tr>\n",
       "    <tr>\n",
       "      <th>15725</th>\n",
       "      <td>(서울=연합뉴스) 새해 들어 전셋값 급등이 주택매매 거래량 증가로 연결되고 있다. ...</td>\n",
       "      <td>2015-03-03 07:39</td>\n",
       "      <td>연합뉴스</td>\n",
       "      <td>https://finance.naver.com//news/news_read.nhn?...</td>\n",
       "      <td>정준영</td>\n",
       "      <td>&lt;오늘의 투자전략&gt; 부동산이 뜨면 주가도 오른다?</td>\n",
       "    </tr>\n",
       "    <tr>\n",
       "      <th>15726</th>\n",
       "      <td>[머니투데이 이해인 기자] 3월의 첫 거래일인 2일은 전 주말 단행된 중국 인민은행...</td>\n",
       "      <td>2015-03-02 15:42</td>\n",
       "      <td>머니투데이</td>\n",
       "      <td>https://finance.naver.com//news/news_read.nhn?...</td>\n",
       "      <td>이해인</td>\n",
       "      <td>[시황종합]코스피 2000 근접…코스닥 '쉬어가기'</td>\n",
       "    </tr>\n",
       "    <tr>\n",
       "      <th>15727</th>\n",
       "      <td>본문 이미지 영역갤럭시S6 /사진=머니투데이DB삼성전자가 갤럭시S6를 발표했다. 이...</td>\n",
       "      <td>2015-03-02 17:58</td>\n",
       "      <td>머니S</td>\n",
       "      <td>https://finance.naver.com//news/news_read.nhn?...</td>\n",
       "      <td>장효원 기자</td>\n",
       "      <td>갤럭시S6 부품 수혜주, 엇갈리는 주가… 문제는 '실적'</td>\n",
       "    </tr>\n",
       "    <tr>\n",
       "      <th>15728</th>\n",
       "      <td>2011년 LTRO 시행때 국내 증시 5조원 이상 유입ECB 양적완화 임박… 유럽계...</td>\n",
       "      <td>2015-03-02 17:24</td>\n",
       "      <td>파이낸셜뉴스</td>\n",
       "      <td>https://finance.naver.com//news/news_read.nhn?...</td>\n",
       "      <td>윤보미</td>\n",
       "      <td>유럽인 '장바구니' 주시할 때다</td>\n",
       "    </tr>\n",
       "    <tr>\n",
       "      <th>15729</th>\n",
       "      <td>[머니투데이 강경래 기자] [원익IPS·케이씨텍 등 반도체 앞세워 최대 실적…에스엔...</td>\n",
       "      <td>2015-03-02 16:47</td>\n",
       "      <td>머니투데이</td>\n",
       "      <td>https://finance.naver.com//news/news_read.nhn?...</td>\n",
       "      <td>강경래</td>\n",
       "      <td>장비 상장사 지난해 실적…주력 따라 '희비교차'</td>\n",
       "    </tr>\n",
       "  </tbody>\n",
       "</table>\n",
       "<p>36197 rows × 6 columns</p>\n",
       "</div>"
      ],
      "text/plain": [
       "                                                 content              date  \\\n",
       "0      이번 주 주식시장은 제롬 파월 미국 연방준비제도(Fed) 의장의 상원 청문회가 주요...  2021-02-21 18:04   \n",
       "1      [파이낸셜뉴스] 이번 주 주식시장은 제롬 파월 미국 연방준비제도(Fed) 의장의 상...  2021-02-21 15:22   \n",
       "2      美 10년물 국채금리 상승에 하락외국인 현선물 동반 차익실현韓美 중앙은행 총재 발언...  2021-02-21 13:24   \n",
       "3      한주 국내 주식펀드 평균 -0.52%…中펀드는 3.29%中, 코로나 가장 빨리 벗어...  2021-02-21 08:01   \n",
       "4      위변조 불가능한 블록체인 특징으로 기부금 사용처 투명성↑체리, 스마트폰으로 기부와 ...  2021-02-21 07:12   \n",
       "...                                                  ...               ...   \n",
       "15725  (서울=연합뉴스) 새해 들어 전셋값 급등이 주택매매 거래량 증가로 연결되고 있다. ...  2015-03-03 07:39   \n",
       "15726  [머니투데이 이해인 기자] 3월의 첫 거래일인 2일은 전 주말 단행된 중국 인민은행...  2015-03-02 15:42   \n",
       "15727  본문 이미지 영역갤럭시S6 /사진=머니투데이DB삼성전자가 갤럭시S6를 발표했다. 이...  2015-03-02 17:58   \n",
       "15728  2011년 LTRO 시행때 국내 증시 5조원 이상 유입ECB 양적완화 임박… 유럽계...  2015-03-02 17:24   \n",
       "15729  [머니투데이 강경래 기자] [원익IPS·케이씨텍 등 반도체 앞세워 최대 실적…에스엔...  2015-03-02 16:47   \n",
       "\n",
       "          kap                                               link  \\\n",
       "0      파이낸셜뉴스  https://finance.naver.com//news/news_read.nhn?...   \n",
       "1      파이낸셜뉴스  https://finance.naver.com//news/news_read.nhn?...   \n",
       "2        이데일리  https://finance.naver.com//news/news_read.nhn?...   \n",
       "3        이데일리  https://finance.naver.com//news/news_read.nhn?...   \n",
       "4         뉴시스  https://finance.naver.com//news/news_read.nhn?...   \n",
       "...       ...                                                ...   \n",
       "15725    연합뉴스  https://finance.naver.com//news/news_read.nhn?...   \n",
       "15726   머니투데이  https://finance.naver.com//news/news_read.nhn?...   \n",
       "15727     머니S  https://finance.naver.com//news/news_read.nhn?...   \n",
       "15728  파이낸셜뉴스  https://finance.naver.com//news/news_read.nhn?...   \n",
       "15729   머니투데이  https://finance.naver.com//news/news_read.nhn?...   \n",
       "\n",
       "                       reporter  \\\n",
       "0                           NaN   \n",
       "1           김민기(kmk@fnnews.com)   \n",
       "2        박정수(ppjs@edaily.co.kr)   \n",
       "3      이슬기(surugi@edaily.co.kr)   \n",
       "4        이재은 기자(lje@newsis.com)   \n",
       "...                         ...   \n",
       "15725                       정준영   \n",
       "15726                       이해인   \n",
       "15727                    장효원 기자   \n",
       "15728                       윤보미   \n",
       "15729                       강경래   \n",
       "\n",
       "                                                title  \n",
       "0      숨고르는 증시 ‘오를까 내릴까’ 23~24일 파월의 입에 달렸다 [주간 증시 전망]  \n",
       "1                   인플레 우려 속 파월 연준 의장 발언 주목[주간 증시 전망]  \n",
       "2                          [주간증시전망]인플레 우려…파월 의장 발언 주목  \n",
       "3                              [펀드와치]中증시 날자 중국펀드 '好好'  \n",
       "4          [블록체인 오딧세이]\"투명하게 기부\"…MZ세대 호응에 누적 기부금 9억 돌파  \n",
       "...                                               ...  \n",
       "15725                     <오늘의 투자전략> 부동산이 뜨면 주가도 오른다?  \n",
       "15726                    [시황종합]코스피 2000 근접…코스닥 '쉬어가기'  \n",
       "15727                 갤럭시S6 부품 수혜주, 엇갈리는 주가… 문제는 '실적'  \n",
       "15728                               유럽인 '장바구니' 주시할 때다  \n",
       "15729                      장비 상장사 지난해 실적…주력 따라 '희비교차'  \n",
       "\n",
       "[36197 rows x 6 columns]"
      ]
     },
     "execution_count": 10,
     "metadata": {},
     "output_type": "execute_result"
    }
   ],
   "source": [
    "df_mid"
   ]
  },
  {
   "cell_type": "code",
   "execution_count": null,
   "id": "9d70b37a",
   "metadata": {},
   "outputs": [],
   "source": [
    "df_mid.to_csv('1_Data\\\\naver_finance_major_news_middle.csv',index=False)"
   ]
  },
  {
   "cell_type": "code",
   "execution_count": null,
   "id": "f4815721",
   "metadata": {},
   "outputs": [],
   "source": [
    "df_mid=pd.read_csv('1_Data\\\\naver_finance_major_news_middle.csv')"
   ]
  },
  {
   "cell_type": "code",
   "execution_count": 11,
   "id": "bb819ce7",
   "metadata": {},
   "outputs": [
    {
     "ename": "ParserError",
     "evalue": "Error tokenizing data. C error: out of memory",
     "output_type": "error",
     "traceback": [
      "\u001b[1;31m---------------------------------------------------------------------------\u001b[0m",
      "\u001b[1;31mParserError\u001b[0m                               Traceback (most recent call last)",
      "\u001b[1;32m<ipython-input-11-3919ab533056>\u001b[0m in \u001b[0;36m<module>\u001b[1;34m\u001b[0m\n\u001b[1;32m----> 1\u001b[1;33m \u001b[0mDF7\u001b[0m \u001b[1;33m=\u001b[0m \u001b[0mpd\u001b[0m\u001b[1;33m.\u001b[0m\u001b[0mread_csv\u001b[0m\u001b[1;33m(\u001b[0m\u001b[1;34m'1_Data\\\\naver_finance_Major_news_7.csv'\u001b[0m\u001b[1;33m)\u001b[0m\u001b[1;33m\u001b[0m\u001b[1;33m\u001b[0m\u001b[0m\n\u001b[0m",
      "\u001b[1;32m~\\anaconda3\\envs\\gyuri\\lib\\site-packages\\pandas\\io\\parsers.py\u001b[0m in \u001b[0;36mread_csv\u001b[1;34m(filepath_or_buffer, sep, delimiter, header, names, index_col, usecols, squeeze, prefix, mangle_dupe_cols, dtype, engine, converters, true_values, false_values, skipinitialspace, skiprows, skipfooter, nrows, na_values, keep_default_na, na_filter, verbose, skip_blank_lines, parse_dates, infer_datetime_format, keep_date_col, date_parser, dayfirst, cache_dates, iterator, chunksize, compression, thousands, decimal, lineterminator, quotechar, quoting, doublequote, escapechar, comment, encoding, dialect, error_bad_lines, warn_bad_lines, delim_whitespace, low_memory, memory_map, float_precision, storage_options)\u001b[0m\n\u001b[0;32m    608\u001b[0m     \u001b[0mkwds\u001b[0m\u001b[1;33m.\u001b[0m\u001b[0mupdate\u001b[0m\u001b[1;33m(\u001b[0m\u001b[0mkwds_defaults\u001b[0m\u001b[1;33m)\u001b[0m\u001b[1;33m\u001b[0m\u001b[1;33m\u001b[0m\u001b[0m\n\u001b[0;32m    609\u001b[0m \u001b[1;33m\u001b[0m\u001b[0m\n\u001b[1;32m--> 610\u001b[1;33m     \u001b[1;32mreturn\u001b[0m \u001b[0m_read\u001b[0m\u001b[1;33m(\u001b[0m\u001b[0mfilepath_or_buffer\u001b[0m\u001b[1;33m,\u001b[0m \u001b[0mkwds\u001b[0m\u001b[1;33m)\u001b[0m\u001b[1;33m\u001b[0m\u001b[1;33m\u001b[0m\u001b[0m\n\u001b[0m\u001b[0;32m    611\u001b[0m \u001b[1;33m\u001b[0m\u001b[0m\n\u001b[0;32m    612\u001b[0m \u001b[1;33m\u001b[0m\u001b[0m\n",
      "\u001b[1;32m~\\anaconda3\\envs\\gyuri\\lib\\site-packages\\pandas\\io\\parsers.py\u001b[0m in \u001b[0;36m_read\u001b[1;34m(filepath_or_buffer, kwds)\u001b[0m\n\u001b[0;32m    466\u001b[0m \u001b[1;33m\u001b[0m\u001b[0m\n\u001b[0;32m    467\u001b[0m     \u001b[1;32mwith\u001b[0m \u001b[0mparser\u001b[0m\u001b[1;33m:\u001b[0m\u001b[1;33m\u001b[0m\u001b[1;33m\u001b[0m\u001b[0m\n\u001b[1;32m--> 468\u001b[1;33m         \u001b[1;32mreturn\u001b[0m \u001b[0mparser\u001b[0m\u001b[1;33m.\u001b[0m\u001b[0mread\u001b[0m\u001b[1;33m(\u001b[0m\u001b[0mnrows\u001b[0m\u001b[1;33m)\u001b[0m\u001b[1;33m\u001b[0m\u001b[1;33m\u001b[0m\u001b[0m\n\u001b[0m\u001b[0;32m    469\u001b[0m \u001b[1;33m\u001b[0m\u001b[0m\n\u001b[0;32m    470\u001b[0m \u001b[1;33m\u001b[0m\u001b[0m\n",
      "\u001b[1;32m~\\anaconda3\\envs\\gyuri\\lib\\site-packages\\pandas\\io\\parsers.py\u001b[0m in \u001b[0;36mread\u001b[1;34m(self, nrows)\u001b[0m\n\u001b[0;32m   1055\u001b[0m     \u001b[1;32mdef\u001b[0m \u001b[0mread\u001b[0m\u001b[1;33m(\u001b[0m\u001b[0mself\u001b[0m\u001b[1;33m,\u001b[0m \u001b[0mnrows\u001b[0m\u001b[1;33m=\u001b[0m\u001b[1;32mNone\u001b[0m\u001b[1;33m)\u001b[0m\u001b[1;33m:\u001b[0m\u001b[1;33m\u001b[0m\u001b[1;33m\u001b[0m\u001b[0m\n\u001b[0;32m   1056\u001b[0m         \u001b[0mnrows\u001b[0m \u001b[1;33m=\u001b[0m \u001b[0mvalidate_integer\u001b[0m\u001b[1;33m(\u001b[0m\u001b[1;34m\"nrows\"\u001b[0m\u001b[1;33m,\u001b[0m \u001b[0mnrows\u001b[0m\u001b[1;33m)\u001b[0m\u001b[1;33m\u001b[0m\u001b[1;33m\u001b[0m\u001b[0m\n\u001b[1;32m-> 1057\u001b[1;33m         \u001b[0mindex\u001b[0m\u001b[1;33m,\u001b[0m \u001b[0mcolumns\u001b[0m\u001b[1;33m,\u001b[0m \u001b[0mcol_dict\u001b[0m \u001b[1;33m=\u001b[0m \u001b[0mself\u001b[0m\u001b[1;33m.\u001b[0m\u001b[0m_engine\u001b[0m\u001b[1;33m.\u001b[0m\u001b[0mread\u001b[0m\u001b[1;33m(\u001b[0m\u001b[0mnrows\u001b[0m\u001b[1;33m)\u001b[0m\u001b[1;33m\u001b[0m\u001b[1;33m\u001b[0m\u001b[0m\n\u001b[0m\u001b[0;32m   1058\u001b[0m \u001b[1;33m\u001b[0m\u001b[0m\n\u001b[0;32m   1059\u001b[0m         \u001b[1;32mif\u001b[0m \u001b[0mindex\u001b[0m \u001b[1;32mis\u001b[0m \u001b[1;32mNone\u001b[0m\u001b[1;33m:\u001b[0m\u001b[1;33m\u001b[0m\u001b[1;33m\u001b[0m\u001b[0m\n",
      "\u001b[1;32m~\\anaconda3\\envs\\gyuri\\lib\\site-packages\\pandas\\io\\parsers.py\u001b[0m in \u001b[0;36mread\u001b[1;34m(self, nrows)\u001b[0m\n\u001b[0;32m   2034\u001b[0m     \u001b[1;32mdef\u001b[0m \u001b[0mread\u001b[0m\u001b[1;33m(\u001b[0m\u001b[0mself\u001b[0m\u001b[1;33m,\u001b[0m \u001b[0mnrows\u001b[0m\u001b[1;33m=\u001b[0m\u001b[1;32mNone\u001b[0m\u001b[1;33m)\u001b[0m\u001b[1;33m:\u001b[0m\u001b[1;33m\u001b[0m\u001b[1;33m\u001b[0m\u001b[0m\n\u001b[0;32m   2035\u001b[0m         \u001b[1;32mtry\u001b[0m\u001b[1;33m:\u001b[0m\u001b[1;33m\u001b[0m\u001b[1;33m\u001b[0m\u001b[0m\n\u001b[1;32m-> 2036\u001b[1;33m             \u001b[0mdata\u001b[0m \u001b[1;33m=\u001b[0m \u001b[0mself\u001b[0m\u001b[1;33m.\u001b[0m\u001b[0m_reader\u001b[0m\u001b[1;33m.\u001b[0m\u001b[0mread\u001b[0m\u001b[1;33m(\u001b[0m\u001b[0mnrows\u001b[0m\u001b[1;33m)\u001b[0m\u001b[1;33m\u001b[0m\u001b[1;33m\u001b[0m\u001b[0m\n\u001b[0m\u001b[0;32m   2037\u001b[0m         \u001b[1;32mexcept\u001b[0m \u001b[0mStopIteration\u001b[0m\u001b[1;33m:\u001b[0m\u001b[1;33m\u001b[0m\u001b[1;33m\u001b[0m\u001b[0m\n\u001b[0;32m   2038\u001b[0m             \u001b[1;32mif\u001b[0m \u001b[0mself\u001b[0m\u001b[1;33m.\u001b[0m\u001b[0m_first_chunk\u001b[0m\u001b[1;33m:\u001b[0m\u001b[1;33m\u001b[0m\u001b[1;33m\u001b[0m\u001b[0m\n",
      "\u001b[1;32mpandas\\_libs\\parsers.pyx\u001b[0m in \u001b[0;36mpandas._libs.parsers.TextReader.read\u001b[1;34m()\u001b[0m\n",
      "\u001b[1;32mpandas\\_libs\\parsers.pyx\u001b[0m in \u001b[0;36mpandas._libs.parsers.TextReader._read_low_memory\u001b[1;34m()\u001b[0m\n",
      "\u001b[1;32mpandas\\_libs\\parsers.pyx\u001b[0m in \u001b[0;36mpandas._libs.parsers.TextReader._read_rows\u001b[1;34m()\u001b[0m\n",
      "\u001b[1;32mpandas\\_libs\\parsers.pyx\u001b[0m in \u001b[0;36mpandas._libs.parsers.TextReader._tokenize_rows\u001b[1;34m()\u001b[0m\n",
      "\u001b[1;32mpandas\\_libs\\parsers.pyx\u001b[0m in \u001b[0;36mpandas._libs.parsers.raise_parser_error\u001b[1;34m()\u001b[0m\n",
      "\u001b[1;31mParserError\u001b[0m: Error tokenizing data. C error: out of memory"
     ]
    }
   ],
   "source": [
    "DF7 = pd.read_csv('1_Data\\\\naver_finance_Major_news_7.csv')"
   ]
  },
  {
   "cell_type": "code",
   "execution_count": null,
   "id": "a77314ae",
   "metadata": {},
   "outputs": [],
   "source": [
    "DF7.shape"
   ]
  },
  {
   "cell_type": "code",
   "execution_count": null,
   "id": "42ca9a20",
   "metadata": {},
   "outputs": [],
   "source": [
    "DF7"
   ]
  },
  {
   "cell_type": "code",
   "execution_count": null,
   "id": "e08ca799",
   "metadata": {},
   "outputs": [],
   "source": [
    "DF1.shape,DF2.shape,DF3.shape,DF4.shape,DF5.shape,DF6.shape,DF7.shape"
   ]
  },
  {
   "cell_type": "code",
   "execution_count": null,
   "id": "94105bc2",
   "metadata": {},
   "outputs": [],
   "source": []
  }
 ],
 "metadata": {
  "kernelspec": {
   "display_name": "Python 3",
   "language": "python",
   "name": "python3"
  },
  "language_info": {
   "codemirror_mode": {
    "name": "ipython",
    "version": 3
   },
   "file_extension": ".py",
   "mimetype": "text/x-python",
   "name": "python",
   "nbconvert_exporter": "python",
   "pygments_lexer": "ipython3",
   "version": "3.9.5"
  }
 },
 "nbformat": 4,
 "nbformat_minor": 5
}
