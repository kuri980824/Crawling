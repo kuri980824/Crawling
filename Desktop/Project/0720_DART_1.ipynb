{
 "cells": [
  {
   "cell_type": "code",
   "execution_count": 6,
   "id": "c5dbbe4f",
   "metadata": {},
   "outputs": [],
   "source": [
    "from selenium import webdriver\n",
    "import pandas as pd\n",
    "from bs4 import BeautifulSoup\n",
    "import urllib.request as req\n",
    "import pandas as pd\n",
    "import requests\n",
    "from io import StringIO\n",
    "import requests\n",
    "import time\n",
    "from selenium.webdriver import Chrome\n",
    "from pdfminer.converter import TextConverter\n",
    "from pdfminer.layout import LAParams\n",
    "from pdfminer.pdfdocument import PDFDocument\n",
    "from pdfminer.pdfinterp import PDFResourceManager, PDFPageInterpreter\n",
    "from pdfminer.pdfpage import PDFPage\n",
    "from pdfminer.pdfparser import PDFParser\n",
    "import os\n",
    "from naver_crawler import *\n",
    "from selenium.webdriver.chrome.options import Options\n",
    "from selenium.webdriver.common.keys import Keys\n",
    "import time\n",
    "import re\n",
    "import parser\n",
    "from datetime import datetime\n",
    "from urllib.request import urlopen\n",
    "import webbrowser"
   ]
  },
  {
   "cell_type": "code",
   "execution_count": 8,
   "id": "8968f21c",
   "metadata": {},
   "outputs": [],
   "source": [
    "API_KEY = \"d08546d14aedde5f2918b783aa10188e789f8f5f\"\n"
   ]
  },
  {
   "cell_type": "code",
   "execution_count": null,
   "id": "d4ac9db6",
   "metadata": {},
   "outputs": [],
   "source": [
    "url = \"http://dart.fss.or.kr/api/search.xml?auth=\"+API_KEY+\"&crp_cd=\"+company_code+\"&start_dt=19990101&bsn_tp=A001&bsn_tp=A002&bsn_tp=A003\"\n"
   ]
  },
  {
   "cell_type": "code",
   "execution_count": null,
   "id": "8b0b3ddd",
   "metadata": {},
   "outputs": [],
   "source": [
    "def make_report(company_code):\n",
    "    url = \"http://dart.fss.or.kr/api/search.xml?auth=\"+API_KEY+\"&crp_cd=\"+company_code+\"&start_dt=19990101&bsn_tp=A001&bsn_tp=A002&bsn_tp=A003\"\n",
    "    resultXML=urlopen(url)\n",
    "    result=resultXML.read()\n",
    "    xmlsoup=BeautifulSoup(result,'html.parser')\n",
    "    data = pd.DataFrame()\n",
    "    te=xmlsoup.findAll(\"list\")\n",
    "    for t in te:\n",
    "        temp=pd.DataFrame(([[t.crp_cls.string,t.crp_nm.string,t.crp_cd.string,t.rpt_nm.string,\n",
    "\n",
    "                        t.rcp_no.string,t.flr_nm.string,t.rcp_dt.string, t.rmk.string]]),\n",
    "\n",
    "                          columns=[\"crp_cls\",\"crp_nm\",\"crp_cd\",\"rpt_nm\",\"rcp_no\",\"flr_nm\",\"rcp_dt\",\"rmk\"])\n",
    "\n",
    "        data=pd.concat([data,temp])\n",
    "\n",
    "\n",
    "\n",
    "\n",
    "\n",
    "    data=data.reset_index(drop=True)\n",
    "\n",
    "    url2=\"http://dart.fss.or.kr/dsaf001/main.do?rcpNo=\"+data['rcp_no'][0]\n",
    "\n",
    "\n",
    "\n",
    "    # webbrowser.open(url2)\n",
    "#\n",
    "\n",
    "\n",
    "    return url2, data['rcp_no'][0]"
   ]
  },
  {
   "cell_type": "code",
   "execution_count": null,
   "id": "f59e5738",
   "metadata": {},
   "outputs": [],
   "source": [
    "company_code"
   ]
  },
  {
   "cell_type": "code",
   "execution_count": null,
   "id": "2c4844ca",
   "metadata": {},
   "outputs": [],
   "source": [
    "url = \"http://dart.fss.or.kr/api/search.xml?auth=\"+API_KEY+\"&crp_cd=\"+company_code+\"&start_dt=19990101&bsn_tp=A001&bsn_tp=A002&bsn_tp=A003\"\n",
    "resultXML=urlopen(url)\n",
    "result=resultXML.read()\n",
    "xmlsoup=BeautifulSoup(result,'html.parser')\n",
    "data = pd.DataFrame()\n",
    "te=xmlsoup.findAll(\"list\")\n",
    "for t in te:\n",
    "    temp=pd.DataFrame(([[t.crp_cls.string,t.crp_nm.string,t.crp_cd.string,t.rpt_nm.string,\n",
    "\n",
    "                    t.rcp_no.string,t.flr_nm.string,t.rcp_dt.string, t.rmk.string]]),\n",
    "\n",
    "                      columns=[\"crp_cls\",\"crp_nm\",\"crp_cd\",\"rpt_nm\",\"rcp_no\",\"flr_nm\",\"rcp_dt\",\"rmk\"])\n",
    "\n",
    "    data=pd.concat([data,temp])\n",
    "data=data.reset_index(drop=True)\n",
    "data"
   ]
  },
  {
   "cell_type": "code",
   "execution_count": null,
   "id": "24f01bdb",
   "metadata": {},
   "outputs": [],
   "source": []
  }
 ],
 "metadata": {
  "kernelspec": {
   "display_name": "Python 3",
   "language": "python",
   "name": "python3"
  },
  "language_info": {
   "codemirror_mode": {
    "name": "ipython",
    "version": 3
   },
   "file_extension": ".py",
   "mimetype": "text/x-python",
   "name": "python",
   "nbconvert_exporter": "python",
   "pygments_lexer": "ipython3",
   "version": "3.8.10"
  }
 },
 "nbformat": 4,
 "nbformat_minor": 5
}
