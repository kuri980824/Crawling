{
 "cells": [
  {
   "cell_type": "code",
   "execution_count": 1,
   "id": "5e2f4d60",
   "metadata": {},
   "outputs": [],
   "source": [
    "from selenium import webdriver\n",
    "import pandas as pd\n",
    "from bs4 import BeautifulSoup\n",
    "import urllib.request as req\n",
    "import pandas as pd\n",
    "import requests\n",
    "from io import StringIO\n",
    "import requests\n",
    "import time\n",
    "from selenium.webdriver import Chrome\n",
    "from pdfminer.converter import TextConverter\n",
    "from pdfminer.layout import LAParams\n",
    "from pdfminer.pdfdocument import PDFDocument\n",
    "from pdfminer.pdfinterp import PDFResourceManager, PDFPageInterpreter\n",
    "from pdfminer.pdfpage import PDFPage\n",
    "from pdfminer.pdfparser import PDFParser\n",
    "import os\n",
    "from naver_crawler import *\n",
    "from selenium.webdriver.chrome.options import Options\n",
    "from selenium.webdriver.common.keys import Keys\n",
    "import time\n",
    "import re\n",
    "import parser\n",
    "from datetime import datetime\n",
    "from urllib.request import urlopen\n",
    "import webbrowser"
   ]
  },
  {
   "cell_type": "code",
   "execution_count": 2,
   "id": "5e64f0a2",
   "metadata": {},
   "outputs": [],
   "source": [
    "os.getcwd()\n",
    "os.chdir('C:\\\\Users\\\\shic\\\\Documents\\\\GitHub\\\\Crawling\\\\Desktop\\\\Project\\\\1_Data')"
   ]
  },
  {
   "cell_type": "code",
   "execution_count": 4,
   "id": "29f1f30b",
   "metadata": {
    "scrolled": true
   },
   "outputs": [
    {
     "name": "stdout",
     "output_type": "stream",
     "text": [
      "DIVIDEND_RANK_2008_2020.csv\n",
      "KIND_TODAY_POST_5DAY.csv\n",
      "KOREA_CREDIT_1.csv\n",
      "KOREA_CREDIT_1_2.csv\n",
      "KOREA_CREDIT_2.csv\n",
      "KOREA_CREDIT_2_2.csv\n",
      "KOREA_CREDIT_3.csv\n",
      "KOREA_CREDIT_3_2.csv\n",
      "KOREA_CREDIT_4.csv\n",
      "KOREA_CREDIT_4_2.csv\n",
      "KOREA_CREDIT_5.csv\n",
      "KOREA_CREDIT_5_2.csv\n",
      "KOREA_CREDIT_6.csv\n",
      "KOREA_CREDIT_6_2.csv\n",
      "KOREA_CREDIT_7.csv\n",
      "KOREA_CREDIT_7_2.csv\n",
      "KOREA_CREDIT_8.csv\n",
      "KOREA_CREDIT_8_2.csv\n",
      "KOREA_VENTURE_FUND_STATUS.csv\n",
      "KOREA_VENTURE_FUND_TYPE.csv\n",
      "naver_finance_economy_list_summary.csv\n",
      "naver_finance_industry_summary.csv\n",
      "naver_finance_invest_list_summary.csv\n",
      "naver_finance_market_full.csv\n",
      "naver_finance_market_summary.csv\n",
      "naver_finance_stock_summary.csv\n",
      "seibro_dividend_rank_2020.csv\n",
      "YOUTUBE_ECO_3PRO.csv\n",
      "youtube_eco_3pro_2.csv\n",
      "youtube_eco_3pro_5.csv\n",
      "youtube_eco_3pro_6.csv\n",
      "youtube_eco_3pro_66rows.csv\n",
      "youtube_eco_3pro_7.csv\n",
      "youtube_eco_3pro_8.csv\n",
      "YOUTUBE_ECO_ALL_.csv\n",
      "YOUTUBE_ECO_FULL.csv\n",
      "youtube_eco_hankyung.csv\n",
      "YOUTUBE_ECO_HANKYUNG_.csv\n",
      "youtube_eco_hankyung_2.csv\n",
      "youtube_eco_hankyung_3.csv\n",
      "youtube_eco_hankyung_4.csv\n",
      "youtube_eco_hankyung_8.csv\n",
      "YOUTUBE_ECO_HANKYUNG_FULL.csv\n",
      "youtube_eco_kimdante.csv\n",
      "YOUTUBE_ECO_KIMDANTE_.csv\n",
      "youtube_eco_kimzakka.csv\n",
      "YOUTUBE_ECO_KIMZAKKA_.csv\n",
      "youtube_eco_kimzakka_1.csv\n",
      "YOUTUBE_ECO_KKAKDOKI.csv\n",
      "youtube_eco_kkakdoki_1.csv\n",
      "youtube_eco_kkakdoki_2.csv\n",
      "youtube_eco_shinsa.csv\n",
      "YOUTUBE_ECO_SHINSAIMDANG.csv\n",
      "youtube_eco_shinsa_3.csv\n",
      "youtube_eco_shinsa_4.csv\n",
      "youtube_eco_shinsa_5.csv\n",
      "youtube_eco_shinsa_6.csv\n",
      "youtube_eco_shinsa_7.csv\n",
      "youtube_eco_shinsa_8.csv\n",
      "youtube_eco_shuka.csv\n",
      "YOUTUBE_ECO_SHUKAWORLD.csv\n",
      "youtube_popular_64rows_0715.csv\n"
     ]
    }
   ],
   "source": [
    "files = os.listdir(os.getcwd())\n",
    "for i in files :\n",
    "    print(i)"
   ]
  },
  {
   "cell_type": "markdown",
   "id": "4269e048",
   "metadata": {},
   "source": [
    "## CREDIT"
   ]
  },
  {
   "cell_type": "code",
   "execution_count": 12,
   "id": "14497551",
   "metadata": {},
   "outputs": [
    {
     "name": "stdout",
     "output_type": "stream",
     "text": [
      "(11620, 11) (34, 11)\n",
      "(299, 9) (0, 9)\n",
      "(114, 10) (0, 10)\n",
      "(119, 11) (0, 11)\n",
      "(25, 11) (0, 11)\n",
      "(5216, 11) (5, 11)\n",
      "(420, 12) (0, 12)\n",
      "(16, 12) (0, 12)\n"
     ]
    }
   ],
   "source": [
    "CREDIT_lst =[]\n",
    "for i in range(1,9):\n",
    "    CREDIT1 = pd.read_csv('KOREA_CREDIT_{}.csv'.format(i),dtype=str)\n",
    "    CREDIT11 = pd.read_csv('KOREA_CREDIT_{}_2.csv'.format(i),dtype=str)\n",
    "    print(CREDIT1.shape, CREDIT11.shape)\n",
    "    CREDIT_lst.append(pd.concat([CREDIT1,CREDIT11],axis=0).drop_duplicates())"
   ]
  },
  {
   "cell_type": "code",
   "execution_count": 20,
   "id": "91cc2c52",
   "metadata": {},
   "outputs": [
    {
     "data": {
      "text/plain": [
       "11919"
      ]
     },
     "execution_count": 20,
     "metadata": {},
     "output_type": "execute_result"
    }
   ],
   "source": [
    "11620+299"
   ]
  },
  {
   "cell_type": "code",
   "execution_count": 19,
   "id": "27a7a88b",
   "metadata": {},
   "outputs": [
    {
     "data": {
      "text/plain": [
       "(11927, 13)"
      ]
     },
     "execution_count": 19,
     "metadata": {},
     "output_type": "execute_result"
    }
   ],
   "source": [
    "pd.concat([CREDIT_lst[0],CREDIT_lst[1]],axis=0).shape"
   ]
  },
  {
   "cell_type": "code",
   "execution_count": 56,
   "id": "4ee8cc08",
   "metadata": {
    "scrolled": true
   },
   "outputs": [
    {
     "data": {
      "text/plain": [
       "Index(['회사명', '채권종류', '회차', '발행액(억원)', '만기일', '평가종류', '직전등급', '현재등급', '평가일',\n",
       "       '리포트', 'Type'],\n",
       "      dtype='object')"
      ]
     },
     "execution_count": 56,
     "metadata": {},
     "output_type": "execute_result"
    }
   ],
   "source": [
    "CREDIT_lst[0].columns"
   ]
  },
  {
   "cell_type": "code",
   "execution_count": 57,
   "id": "e5ff309c",
   "metadata": {},
   "outputs": [
    {
     "data": {
      "text/plain": [
       "(17830, 25)"
      ]
     },
     "execution_count": 57,
     "metadata": {},
     "output_type": "execute_result"
    }
   ],
   "source": [
    "DF_KOREA = pd.concat([CREDIT_lst[0],CREDIT_lst[1],CREDIT_lst[2],CREDIT_lst[3],CREDIT_lst[4],CREDIT_lst[5],CREDIT_lst[6],CREDIT_lst[7]],axis=0)\n",
    "DF_KOREA.shape"
   ]
  },
  {
   "cell_type": "code",
   "execution_count": 64,
   "id": "934531b3",
   "metadata": {
    "scrolled": true
   },
   "outputs": [
    {
     "data": {
      "text/html": [
       "<div>\n",
       "<style scoped>\n",
       "    .dataframe tbody tr th:only-of-type {\n",
       "        vertical-align: middle;\n",
       "    }\n",
       "\n",
       "    .dataframe tbody tr th {\n",
       "        vertical-align: top;\n",
       "    }\n",
       "\n",
       "    .dataframe thead th {\n",
       "        text-align: right;\n",
       "    }\n",
       "</style>\n",
       "<table border=\"1\" class=\"dataframe\">\n",
       "  <thead>\n",
       "    <tr style=\"text-align: right;\">\n",
       "      <th></th>\n",
       "      <th>Type</th>\n",
       "      <th>회사명</th>\n",
       "      <th>채권종류</th>\n",
       "      <th>회차</th>\n",
       "      <th>발행액(억원)</th>\n",
       "      <th>만기일</th>\n",
       "      <th>평가종류</th>\n",
       "      <th>직전등급</th>\n",
       "      <th>현재등급</th>\n",
       "      <th>평가일</th>\n",
       "      <th>...</th>\n",
       "      <th>현재Outlook</th>\n",
       "      <th>기준통화</th>\n",
       "      <th>종류</th>\n",
       "      <th>시리즈</th>\n",
       "      <th>유형</th>\n",
       "      <th>공여기관</th>\n",
       "      <th>한도액(억원)</th>\n",
       "      <th>약정만료일</th>\n",
       "      <th>프로그램</th>\n",
       "      <th>발행일</th>\n",
       "    </tr>\n",
       "  </thead>\n",
       "  <tbody>\n",
       "    <tr>\n",
       "      <th>0</th>\n",
       "      <td>회사채</td>\n",
       "      <td>모트렉스</td>\n",
       "      <td>PP</td>\n",
       "      <td>7(P-CBO)</td>\n",
       "      <td>80.0</td>\n",
       "      <td>NaN</td>\n",
       "      <td>본</td>\n",
       "      <td>NaN</td>\n",
       "      <td>BB-</td>\n",
       "      <td>2021.07.19</td>\n",
       "      <td>...</td>\n",
       "      <td>NaN</td>\n",
       "      <td>NaN</td>\n",
       "      <td>NaN</td>\n",
       "      <td>NaN</td>\n",
       "      <td>NaN</td>\n",
       "      <td>NaN</td>\n",
       "      <td>NaN</td>\n",
       "      <td>NaN</td>\n",
       "      <td>NaN</td>\n",
       "      <td>NaN</td>\n",
       "    </tr>\n",
       "    <tr>\n",
       "      <th>1</th>\n",
       "      <td>회사채</td>\n",
       "      <td>모트렉스</td>\n",
       "      <td>PP</td>\n",
       "      <td>7(P-CBO)</td>\n",
       "      <td>80.0</td>\n",
       "      <td>NaN</td>\n",
       "      <td>본</td>\n",
       "      <td>NaN</td>\n",
       "      <td>안정적</td>\n",
       "      <td>2021.07.19</td>\n",
       "      <td>...</td>\n",
       "      <td>NaN</td>\n",
       "      <td>NaN</td>\n",
       "      <td>NaN</td>\n",
       "      <td>NaN</td>\n",
       "      <td>NaN</td>\n",
       "      <td>NaN</td>\n",
       "      <td>NaN</td>\n",
       "      <td>NaN</td>\n",
       "      <td>NaN</td>\n",
       "      <td>NaN</td>\n",
       "    </tr>\n",
       "    <tr>\n",
       "      <th>2</th>\n",
       "      <td>회사채</td>\n",
       "      <td>산은캐피탈</td>\n",
       "      <td>SB</td>\n",
       "      <td>671</td>\n",
       "      <td>NaN</td>\n",
       "      <td>NaN</td>\n",
       "      <td>본</td>\n",
       "      <td>NaN</td>\n",
       "      <td>AA-</td>\n",
       "      <td>2021.07.19</td>\n",
       "      <td>...</td>\n",
       "      <td>NaN</td>\n",
       "      <td>NaN</td>\n",
       "      <td>NaN</td>\n",
       "      <td>NaN</td>\n",
       "      <td>NaN</td>\n",
       "      <td>NaN</td>\n",
       "      <td>NaN</td>\n",
       "      <td>NaN</td>\n",
       "      <td>NaN</td>\n",
       "      <td>NaN</td>\n",
       "    </tr>\n",
       "    <tr>\n",
       "      <th>3</th>\n",
       "      <td>회사채</td>\n",
       "      <td>산은캐피탈</td>\n",
       "      <td>SB</td>\n",
       "      <td>671</td>\n",
       "      <td>NaN</td>\n",
       "      <td>NaN</td>\n",
       "      <td>본</td>\n",
       "      <td>NaN</td>\n",
       "      <td>안정적</td>\n",
       "      <td>2021.07.19</td>\n",
       "      <td>...</td>\n",
       "      <td>NaN</td>\n",
       "      <td>NaN</td>\n",
       "      <td>NaN</td>\n",
       "      <td>NaN</td>\n",
       "      <td>NaN</td>\n",
       "      <td>NaN</td>\n",
       "      <td>NaN</td>\n",
       "      <td>NaN</td>\n",
       "      <td>NaN</td>\n",
       "      <td>NaN</td>\n",
       "    </tr>\n",
       "    <tr>\n",
       "      <th>4</th>\n",
       "      <td>회사채</td>\n",
       "      <td>우리금융캐피탈</td>\n",
       "      <td>SB</td>\n",
       "      <td>422</td>\n",
       "      <td>NaN</td>\n",
       "      <td>NaN</td>\n",
       "      <td>본</td>\n",
       "      <td>NaN</td>\n",
       "      <td>AA-</td>\n",
       "      <td>2021.07.19</td>\n",
       "      <td>...</td>\n",
       "      <td>NaN</td>\n",
       "      <td>NaN</td>\n",
       "      <td>NaN</td>\n",
       "      <td>NaN</td>\n",
       "      <td>NaN</td>\n",
       "      <td>NaN</td>\n",
       "      <td>NaN</td>\n",
       "      <td>NaN</td>\n",
       "      <td>NaN</td>\n",
       "      <td>NaN</td>\n",
       "    </tr>\n",
       "    <tr>\n",
       "      <th>...</th>\n",
       "      <td>...</td>\n",
       "      <td>...</td>\n",
       "      <td>...</td>\n",
       "      <td>...</td>\n",
       "      <td>...</td>\n",
       "      <td>...</td>\n",
       "      <td>...</td>\n",
       "      <td>...</td>\n",
       "      <td>...</td>\n",
       "      <td>...</td>\n",
       "      <td>...</td>\n",
       "      <td>...</td>\n",
       "      <td>...</td>\n",
       "      <td>...</td>\n",
       "      <td>...</td>\n",
       "      <td>...</td>\n",
       "      <td>...</td>\n",
       "      <td>...</td>\n",
       "      <td>...</td>\n",
       "      <td>...</td>\n",
       "      <td>...</td>\n",
       "    </tr>\n",
       "    <tr>\n",
       "      <th>11</th>\n",
       "      <td>Covered Bond</td>\n",
       "      <td>국민은행</td>\n",
       "      <td>NaN</td>\n",
       "      <td>2019-5</td>\n",
       "      <td>1500</td>\n",
       "      <td>2024.09.03</td>\n",
       "      <td>본</td>\n",
       "      <td>NaN</td>\n",
       "      <td>AAA</td>\n",
       "      <td>2019.09.03</td>\n",
       "      <td>...</td>\n",
       "      <td>NaN</td>\n",
       "      <td>NaN</td>\n",
       "      <td>NaN</td>\n",
       "      <td>NaN</td>\n",
       "      <td>NaN</td>\n",
       "      <td>NaN</td>\n",
       "      <td>NaN</td>\n",
       "      <td>NaN</td>\n",
       "      <td>2019-5</td>\n",
       "      <td>2019.09.03</td>\n",
       "    </tr>\n",
       "    <tr>\n",
       "      <th>12</th>\n",
       "      <td>Covered Bond</td>\n",
       "      <td>국민은행</td>\n",
       "      <td>NaN</td>\n",
       "      <td>2019-4-2</td>\n",
       "      <td>2000</td>\n",
       "      <td>2026.08.14</td>\n",
       "      <td>본</td>\n",
       "      <td>NaN</td>\n",
       "      <td>AAA</td>\n",
       "      <td>2019.08.14</td>\n",
       "      <td>...</td>\n",
       "      <td>NaN</td>\n",
       "      <td>NaN</td>\n",
       "      <td>NaN</td>\n",
       "      <td>NaN</td>\n",
       "      <td>NaN</td>\n",
       "      <td>NaN</td>\n",
       "      <td>NaN</td>\n",
       "      <td>NaN</td>\n",
       "      <td>2019-4-1/2019-4-2</td>\n",
       "      <td>2019.08.14</td>\n",
       "    </tr>\n",
       "    <tr>\n",
       "      <th>13</th>\n",
       "      <td>Covered Bond</td>\n",
       "      <td>국민은행</td>\n",
       "      <td>NaN</td>\n",
       "      <td>2019-3</td>\n",
       "      <td>4000</td>\n",
       "      <td>2024.07.23</td>\n",
       "      <td>본</td>\n",
       "      <td>NaN</td>\n",
       "      <td>AAA</td>\n",
       "      <td>2019.07.23</td>\n",
       "      <td>...</td>\n",
       "      <td>NaN</td>\n",
       "      <td>NaN</td>\n",
       "      <td>NaN</td>\n",
       "      <td>NaN</td>\n",
       "      <td>NaN</td>\n",
       "      <td>NaN</td>\n",
       "      <td>NaN</td>\n",
       "      <td>NaN</td>\n",
       "      <td>2019-3</td>\n",
       "      <td>2019.07.23</td>\n",
       "    </tr>\n",
       "    <tr>\n",
       "      <th>14</th>\n",
       "      <td>Covered Bond</td>\n",
       "      <td>국민은행</td>\n",
       "      <td>NaN</td>\n",
       "      <td>2019-2</td>\n",
       "      <td>4000</td>\n",
       "      <td>2024.06.25</td>\n",
       "      <td>본</td>\n",
       "      <td>NaN</td>\n",
       "      <td>AAA</td>\n",
       "      <td>2019.06.25</td>\n",
       "      <td>...</td>\n",
       "      <td>NaN</td>\n",
       "      <td>NaN</td>\n",
       "      <td>NaN</td>\n",
       "      <td>NaN</td>\n",
       "      <td>NaN</td>\n",
       "      <td>NaN</td>\n",
       "      <td>NaN</td>\n",
       "      <td>NaN</td>\n",
       "      <td>2019-2</td>\n",
       "      <td>2019.06.25</td>\n",
       "    </tr>\n",
       "    <tr>\n",
       "      <th>15</th>\n",
       "      <td>Covered Bond</td>\n",
       "      <td>국민은행</td>\n",
       "      <td>NaN</td>\n",
       "      <td>2019-1-2</td>\n",
       "      <td>1000</td>\n",
       "      <td>2026.05.14</td>\n",
       "      <td>본</td>\n",
       "      <td>NaN</td>\n",
       "      <td>AAA</td>\n",
       "      <td>2019.05.14</td>\n",
       "      <td>...</td>\n",
       "      <td>NaN</td>\n",
       "      <td>NaN</td>\n",
       "      <td>NaN</td>\n",
       "      <td>NaN</td>\n",
       "      <td>NaN</td>\n",
       "      <td>NaN</td>\n",
       "      <td>NaN</td>\n",
       "      <td>NaN</td>\n",
       "      <td>2019-1-1/2019-1-2</td>\n",
       "      <td>2019.05.14</td>\n",
       "    </tr>\n",
       "  </tbody>\n",
       "</table>\n",
       "<p>17830 rows × 25 columns</p>\n",
       "</div>"
      ],
      "text/plain": [
       "            Type      회사명 채권종류        회차 발행액(억원)         만기일 평가종류 직전등급 현재등급  \\\n",
       "0            회사채     모트렉스   PP  7(P-CBO)    80.0         NaN    본  NaN  BB-   \n",
       "1            회사채     모트렉스   PP  7(P-CBO)    80.0         NaN    본  NaN  안정적   \n",
       "2            회사채    산은캐피탈   SB       671     NaN         NaN    본  NaN  AA-   \n",
       "3            회사채    산은캐피탈   SB       671     NaN         NaN    본  NaN  안정적   \n",
       "4            회사채  우리금융캐피탈   SB       422     NaN         NaN    본  NaN  AA-   \n",
       "..           ...      ...  ...       ...     ...         ...  ...  ...  ...   \n",
       "11  Covered Bond     국민은행  NaN    2019-5    1500  2024.09.03    본  NaN  AAA   \n",
       "12  Covered Bond     국민은행  NaN  2019-4-2    2000  2026.08.14    본  NaN  AAA   \n",
       "13  Covered Bond     국민은행  NaN    2019-3    4000  2024.07.23    본  NaN  AAA   \n",
       "14  Covered Bond     국민은행  NaN    2019-2    4000  2024.06.25    본  NaN  AAA   \n",
       "15  Covered Bond     국민은행  NaN  2019-1-2    1000  2026.05.14    본  NaN  AAA   \n",
       "\n",
       "           평가일  ... 현재Outlook 기준통화   종류  시리즈   유형 공여기관 한도액(억원) 약정만료일  \\\n",
       "0   2021.07.19  ...       NaN  NaN  NaN  NaN  NaN  NaN     NaN   NaN   \n",
       "1   2021.07.19  ...       NaN  NaN  NaN  NaN  NaN  NaN     NaN   NaN   \n",
       "2   2021.07.19  ...       NaN  NaN  NaN  NaN  NaN  NaN     NaN   NaN   \n",
       "3   2021.07.19  ...       NaN  NaN  NaN  NaN  NaN  NaN     NaN   NaN   \n",
       "4   2021.07.19  ...       NaN  NaN  NaN  NaN  NaN  NaN     NaN   NaN   \n",
       "..         ...  ...       ...  ...  ...  ...  ...  ...     ...   ...   \n",
       "11  2019.09.03  ...       NaN  NaN  NaN  NaN  NaN  NaN     NaN   NaN   \n",
       "12  2019.08.14  ...       NaN  NaN  NaN  NaN  NaN  NaN     NaN   NaN   \n",
       "13  2019.07.23  ...       NaN  NaN  NaN  NaN  NaN  NaN     NaN   NaN   \n",
       "14  2019.06.25  ...       NaN  NaN  NaN  NaN  NaN  NaN     NaN   NaN   \n",
       "15  2019.05.14  ...       NaN  NaN  NaN  NaN  NaN  NaN     NaN   NaN   \n",
       "\n",
       "                 프로그램         발행일  \n",
       "0                 NaN         NaN  \n",
       "1                 NaN         NaN  \n",
       "2                 NaN         NaN  \n",
       "3                 NaN         NaN  \n",
       "4                 NaN         NaN  \n",
       "..                ...         ...  \n",
       "11             2019-5  2019.09.03  \n",
       "12  2019-4-1/2019-4-2  2019.08.14  \n",
       "13             2019-3  2019.07.23  \n",
       "14             2019-2  2019.06.25  \n",
       "15  2019-1-1/2019-1-2  2019.05.14  \n",
       "\n",
       "[17830 rows x 25 columns]"
      ]
     },
     "execution_count": 64,
     "metadata": {},
     "output_type": "execute_result"
    }
   ],
   "source": [
    "DF_KOREA"
   ]
  },
  {
   "cell_type": "code",
   "execution_count": 65,
   "id": "8cf26da1",
   "metadata": {},
   "outputs": [],
   "source": [
    "DF_KOREA.to_csv('KOREA_CREDIT_ALL.csv',index=False)"
   ]
  },
  {
   "cell_type": "code",
   "execution_count": 66,
   "id": "96119294",
   "metadata": {},
   "outputs": [
    {
     "data": {
      "text/plain": [
       "'C:\\\\Users\\\\shic\\\\Documents\\\\GitHub\\\\Crawling\\\\Desktop\\\\Project\\\\1_Data'"
      ]
     },
     "execution_count": 66,
     "metadata": {},
     "output_type": "execute_result"
    }
   ],
   "source": [
    "os.getcwd()"
   ]
  },
  {
   "cell_type": "markdown",
   "id": "5888760a",
   "metadata": {},
   "source": [
    "## NICE"
   ]
  },
  {
   "cell_type": "code",
   "execution_count": 37,
   "id": "02baa5ae",
   "metadata": {},
   "outputs": [
    {
     "name": "stdout",
     "output_type": "stream",
     "text": [
      "(20065, 15)\n",
      "(7526, 12)\n",
      "(1774, 13)\n",
      "(6535, 13)\n",
      "(249, 13)\n",
      "(22, 14)\n",
      "(153965, 13)\n"
     ]
    }
   ],
   "source": [
    "NICE_lst =[]\n",
    "for i in range(1,8):\n",
    "    NICE1 = pd.read_csv('NICE_CREDIT_{}.csv'.format(i),dtype=str)\n",
    "    print(NICE1.shape)\n",
    "    NICE_lst.append(NICE1.drop_duplicates())"
   ]
  },
  {
   "cell_type": "code",
   "execution_count": 38,
   "id": "49130e89",
   "metadata": {},
   "outputs": [
    {
     "name": "stderr",
     "output_type": "stream",
     "text": [
      "<ipython-input-38-33d4bdd11000>:1: SettingWithCopyWarning: \n",
      "A value is trying to be set on a copy of a slice from a DataFrame.\n",
      "Try using .loc[row_indexer,col_indexer] = value instead\n",
      "\n",
      "See the caveats in the documentation: https://pandas.pydata.org/pandas-docs/stable/user_guide/indexing.html#returning-a-view-versus-a-copy\n",
      "  NICE_lst[6]['Type']='자산유동화 증권'\n"
     ]
    }
   ],
   "source": [
    "NICE_lst[6]['Type']='자산유동화 증권'"
   ]
  },
  {
   "cell_type": "code",
   "execution_count": 40,
   "id": "b2952139",
   "metadata": {},
   "outputs": [
    {
     "data": {
      "text/plain": [
       "0         자산유동화 증권\n",
       "1         자산유동화 증권\n",
       "2         자산유동화 증권\n",
       "3         자산유동화 증권\n",
       "4         자산유동화 증권\n",
       "            ...   \n",
       "153960    자산유동화 증권\n",
       "153961    자산유동화 증권\n",
       "153962    자산유동화 증권\n",
       "153963    자산유동화 증권\n",
       "153964    자산유동화 증권\n",
       "Name: Type, Length: 153891, dtype: object"
      ]
     },
     "execution_count": 40,
     "metadata": {},
     "output_type": "execute_result"
    }
   ],
   "source": [
    "NICE_lst[6].Type"
   ]
  },
  {
   "cell_type": "code",
   "execution_count": 41,
   "id": "5038a328",
   "metadata": {},
   "outputs": [
    {
     "name": "stdout",
     "output_type": "stream",
     "text": [
      "Index(['기업명', '회차', '종류', '평정', '직전등급', '직전전망', '현재등급', '현재전망', '등급결정일',\n",
      "       '등급확정일', '발행액(억원)', '요지', '재무', '보고서', 'Type'],\n",
      "      dtype='object')\n",
      "Index(['기업명', '평정', '직전등급', '현재등급', '등급결정일', '등급확정일', '결산기준', '유효기간', '요지',\n",
      "       '재무', '보고서', 'Type'],\n",
      "      dtype='object')\n",
      "Index(['기업명', '평정', '직전등급', '현재등급', '등급결정일', '등급확정일', '결산기준', '발행한도(억원)',\n",
      "       '유효기간', '요지', '재무', '보고서', 'Type'],\n",
      "      dtype='object')\n",
      "Index(['기업명', '평정', '직전등급', '직전전망', '현재등급', '현재전망', '등급결정일', '등급확정일', '유효기간',\n",
      "       '요지', '재무', '보고서', 'Type'],\n",
      "      dtype='object')\n",
      "Index(['기업명', '평정', '직전등급', '직전전망', '현재등급', '현재전망', '등급결정일', '등급확정일', '유효기간',\n",
      "       '요지', '재무', '보고서', 'Type'],\n",
      "      dtype='object')\n",
      "Index(['회사명', '회차', '종류', '평정', '직전등급', '현재등급', '등급결정일', '등급확정일', '발행일', '만기일',\n",
      "       '발행액(억원)', '요지', '보고서', 'Type'],\n",
      "      dtype='object')\n",
      "Index(['유동화회사명', '회차', '종류', '평정', '직전등급', '현재등급', '등급결정일', '등급확정일', '발행일',\n",
      "       '만기일', '발행액(억원)', '요지', '보고서', 'Type'],\n",
      "      dtype='object')\n"
     ]
    }
   ],
   "source": [
    "print(NICE_lst[0].columns)\n",
    "print(NICE_lst[1].columns)\n",
    "print(NICE_lst[2].columns)\n",
    "print(NICE_lst[3].columns)\n",
    "print(NICE_lst[4].columns)\n",
    "print(NICE_lst[5].columns)\n",
    "print(NICE_lst[6].columns)"
   ]
  },
  {
   "cell_type": "code",
   "execution_count": 42,
   "id": "2bf693d4",
   "metadata": {},
   "outputs": [
    {
     "data": {
      "text/plain": [
       "(190057, 22)"
      ]
     },
     "execution_count": 42,
     "metadata": {},
     "output_type": "execute_result"
    }
   ],
   "source": [
    "pd.concat([NICE_lst[0],NICE_lst[1],NICE_lst[2],NICE_lst[3],NICE_lst[4],NICE_lst[5],NICE_lst[6]],axis=0).shape"
   ]
  },
  {
   "cell_type": "code",
   "execution_count": 43,
   "id": "1d33108b",
   "metadata": {},
   "outputs": [
    {
     "data": {
      "text/plain": [
       "자산유동화 증권     153891\n",
       "채권            20060\n",
       "기업어음           7526\n",
       "기업신용평가         6535\n",
       "전자단기사채         1774\n",
       "보험금지급능력평가       249\n",
       "커버드본드            22\n",
       "Name: Type, dtype: int64"
      ]
     },
     "execution_count": 43,
     "metadata": {},
     "output_type": "execute_result"
    }
   ],
   "source": [
    "pd.concat([NICE_lst[0],NICE_lst[1],NICE_lst[2],NICE_lst[3],NICE_lst[4],NICE_lst[5],NICE_lst[6]],axis=0).Type.value_counts()"
   ]
  },
  {
   "cell_type": "code",
   "execution_count": 44,
   "id": "d886ef27",
   "metadata": {},
   "outputs": [],
   "source": [
    "DF_NICE = pd.concat([NICE_lst[0],NICE_lst[1],NICE_lst[2],NICE_lst[3],NICE_lst[4],NICE_lst[5],NICE_lst[6]],axis=0)"
   ]
  },
  {
   "cell_type": "code",
   "execution_count": 45,
   "id": "cc73e493",
   "metadata": {},
   "outputs": [
    {
     "data": {
      "text/plain": [
       "(190057, 22)"
      ]
     },
     "execution_count": 45,
     "metadata": {},
     "output_type": "execute_result"
    }
   ],
   "source": [
    "DF_NICE.shape"
   ]
  },
  {
   "cell_type": "code",
   "execution_count": 52,
   "id": "05ccaea7",
   "metadata": {},
   "outputs": [],
   "source": [
    "DF_NICE.to_csv('NICE_CREDIT_ALL.csv',index=False)"
   ]
  },
  {
   "cell_type": "code",
   "execution_count": 53,
   "id": "cad04283",
   "metadata": {},
   "outputs": [
    {
     "data": {
      "text/plain": [
       "'C:\\\\Users\\\\shic\\\\Documents\\\\GitHub\\\\Crawling\\\\Desktop\\\\Project\\\\1_Data'"
      ]
     },
     "execution_count": 53,
     "metadata": {},
     "output_type": "execute_result"
    }
   ],
   "source": [
    "os.getcwd()"
   ]
  },
  {
   "cell_type": "markdown",
   "id": "357b99cb",
   "metadata": {},
   "source": [
    "# Venture"
   ]
  },
  {
   "cell_type": "code",
   "execution_count": 70,
   "id": "143acdfb",
   "metadata": {},
   "outputs": [
    {
     "data": {
      "text/plain": [
       "(8, 2)"
      ]
     },
     "execution_count": 70,
     "metadata": {},
     "output_type": "execute_result"
    }
   ],
   "source": [
    "VEN1=pd.read_csv('KOREA_VENTURE_FUND_TYPE.csv')\n",
    "VEN1.shape"
   ]
  },
  {
   "cell_type": "code",
   "execution_count": 69,
   "id": "883e146e",
   "metadata": {},
   "outputs": [
    {
     "data": {
      "text/plain": [
       "(620, 7)"
      ]
     },
     "execution_count": 69,
     "metadata": {},
     "output_type": "execute_result"
    }
   ],
   "source": [
    "VEN2=pd.read_csv('KOREA_VENTURE_FUND_STATUS.csv')\n",
    "VEN2.shape"
   ]
  },
  {
   "cell_type": "code",
   "execution_count": 71,
   "id": "1861f123",
   "metadata": {
    "scrolled": true
   },
   "outputs": [
    {
     "data": {
      "text/html": [
       "<div>\n",
       "<style scoped>\n",
       "    .dataframe tbody tr th:only-of-type {\n",
       "        vertical-align: middle;\n",
       "    }\n",
       "\n",
       "    .dataframe tbody tr th {\n",
       "        vertical-align: top;\n",
       "    }\n",
       "\n",
       "    .dataframe thead th {\n",
       "        text-align: right;\n",
       "    }\n",
       "</style>\n",
       "<table border=\"1\" class=\"dataframe\">\n",
       "  <thead>\n",
       "    <tr style=\"text-align: right;\">\n",
       "      <th></th>\n",
       "      <th>펀드별 코드</th>\n",
       "      <th>펀드명</th>\n",
       "    </tr>\n",
       "  </thead>\n",
       "  <tbody>\n",
       "    <tr>\n",
       "      <th>0</th>\n",
       "      <td>11</td>\n",
       "      <td>한국모태펀드</td>\n",
       "    </tr>\n",
       "    <tr>\n",
       "      <th>1</th>\n",
       "      <td>12</td>\n",
       "      <td>산업기술사업화모펀드</td>\n",
       "    </tr>\n",
       "    <tr>\n",
       "      <th>2</th>\n",
       "      <td>13</td>\n",
       "      <td>해외 VC 글로벌펀드</td>\n",
       "    </tr>\n",
       "    <tr>\n",
       "      <th>3</th>\n",
       "      <td>14</td>\n",
       "      <td>한국전력 모펀드</td>\n",
       "    </tr>\n",
       "    <tr>\n",
       "      <th>4</th>\n",
       "      <td>15</td>\n",
       "      <td>엔젤 모펀드</td>\n",
       "    </tr>\n",
       "    <tr>\n",
       "      <th>5</th>\n",
       "      <td>16</td>\n",
       "      <td>KEB하나-KVIC 유니콘 모펀드</td>\n",
       "    </tr>\n",
       "    <tr>\n",
       "      <th>6</th>\n",
       "      <td>21</td>\n",
       "      <td>엔젤투자매칭펀드</td>\n",
       "    </tr>\n",
       "    <tr>\n",
       "      <th>7</th>\n",
       "      <td>22</td>\n",
       "      <td>일자리매칭펀드</td>\n",
       "    </tr>\n",
       "  </tbody>\n",
       "</table>\n",
       "</div>"
      ],
      "text/plain": [
       "   펀드별 코드                 펀드명\n",
       "0      11              한국모태펀드\n",
       "1      12          산업기술사업화모펀드\n",
       "2      13         해외 VC 글로벌펀드\n",
       "3      14            한국전력 모펀드\n",
       "4      15              엔젤 모펀드\n",
       "5      16  KEB하나-KVIC 유니콘 모펀드\n",
       "6      21            엔젤투자매칭펀드\n",
       "7      22             일자리매칭펀드"
      ]
     },
     "execution_count": 71,
     "metadata": {},
     "output_type": "execute_result"
    }
   ],
   "source": [
    "VEN1"
   ]
  },
  {
   "cell_type": "code",
   "execution_count": 72,
   "id": "12f5a9bc",
   "metadata": {},
   "outputs": [
    {
     "data": {
      "text/html": [
       "<div>\n",
       "<style scoped>\n",
       "    .dataframe tbody tr th:only-of-type {\n",
       "        vertical-align: middle;\n",
       "    }\n",
       "\n",
       "    .dataframe tbody tr th {\n",
       "        vertical-align: top;\n",
       "    }\n",
       "\n",
       "    .dataframe thead th {\n",
       "        text-align: right;\n",
       "    }\n",
       "</style>\n",
       "<table border=\"1\" class=\"dataframe\">\n",
       "  <thead>\n",
       "    <tr style=\"text-align: right;\">\n",
       "      <th></th>\n",
       "      <th>년도</th>\n",
       "      <th>출자분야</th>\n",
       "      <th>운용사</th>\n",
       "      <th>조합명</th>\n",
       "      <th>만기일</th>\n",
       "      <th>금액</th>\n",
       "      <th>약정액</th>\n",
       "    </tr>\n",
       "  </thead>\n",
       "  <tbody>\n",
       "    <tr>\n",
       "      <th>0</th>\n",
       "      <td>2019</td>\n",
       "      <td>LP지분유동화</td>\n",
       "      <td>포스코기술투자㈜</td>\n",
       "      <td>피씨씨-우리 LP지분 유동화 펀드</td>\n",
       "      <td>2027-12-31</td>\n",
       "      <td>26000.0</td>\n",
       "      <td>10000.0</td>\n",
       "    </tr>\n",
       "    <tr>\n",
       "      <th>1</th>\n",
       "      <td>2019</td>\n",
       "      <td>미세먼지해결</td>\n",
       "      <td>㈜이앤인베스트먼트</td>\n",
       "      <td>2019모태이앤클린에어펀드</td>\n",
       "      <td>2027-12-29</td>\n",
       "      <td>21500.0</td>\n",
       "      <td>15000.0</td>\n",
       "    </tr>\n",
       "    <tr>\n",
       "      <th>2</th>\n",
       "      <td>2019</td>\n",
       "      <td>대학창업</td>\n",
       "      <td>숭실대학교기술지주</td>\n",
       "      <td>숭실대 SUJI 제1호 개인투자조합</td>\n",
       "      <td>2026-12-22</td>\n",
       "      <td>1700.0</td>\n",
       "      <td>1225.0</td>\n",
       "    </tr>\n",
       "    <tr>\n",
       "      <th>3</th>\n",
       "      <td>2019</td>\n",
       "      <td>디지털콘텐츠 해외진출</td>\n",
       "      <td>이에스인베스터</td>\n",
       "      <td>이에스6호디지털콘텐츠글로벌펀드</td>\n",
       "      <td>2026-12-22</td>\n",
       "      <td>15000.0</td>\n",
       "      <td>10500.0</td>\n",
       "    </tr>\n",
       "    <tr>\n",
       "      <th>4</th>\n",
       "      <td>2019</td>\n",
       "      <td>특허기술사업화</td>\n",
       "      <td>퀀텀벤처스코리아</td>\n",
       "      <td>퀀텀5G특화4차산업고급기술펀드</td>\n",
       "      <td>2027-11-27</td>\n",
       "      <td>49700.0</td>\n",
       "      <td>2800.0</td>\n",
       "    </tr>\n",
       "    <tr>\n",
       "      <th>...</th>\n",
       "      <td>...</td>\n",
       "      <td>...</td>\n",
       "      <td>...</td>\n",
       "      <td>...</td>\n",
       "      <td>...</td>\n",
       "      <td>...</td>\n",
       "      <td>...</td>\n",
       "    </tr>\n",
       "    <tr>\n",
       "      <th>615</th>\n",
       "      <td>2007</td>\n",
       "      <td>특허기술사업화</td>\n",
       "      <td>우리인베스트먼트</td>\n",
       "      <td>보스톤특허기술사업화전문투자조합</td>\n",
       "      <td>2013-03-31</td>\n",
       "      <td>10000.0</td>\n",
       "      <td>4000.0</td>\n",
       "    </tr>\n",
       "    <tr>\n",
       "      <th>616</th>\n",
       "      <td>2006</td>\n",
       "      <td>해외진출</td>\n",
       "      <td>엠벤처투자</td>\n",
       "      <td>아시아퍼시픽벤처투자조합B</td>\n",
       "      <td>2014-09-28</td>\n",
       "      <td>28341.0</td>\n",
       "      <td>11346.6</td>\n",
       "    </tr>\n",
       "    <tr>\n",
       "      <th>617</th>\n",
       "      <td>2006</td>\n",
       "      <td>문화산업</td>\n",
       "      <td>미시간벤처캐피탈</td>\n",
       "      <td>미시간글로벌컨텐츠투자조합</td>\n",
       "      <td>2014-06-24</td>\n",
       "      <td>10000.0</td>\n",
       "      <td>3000.0</td>\n",
       "    </tr>\n",
       "    <tr>\n",
       "      <th>618</th>\n",
       "      <td>2006</td>\n",
       "      <td>문화산업</td>\n",
       "      <td>우리인베스트먼트</td>\n",
       "      <td>보스톤영상콘텐츠전문투자조합</td>\n",
       "      <td>2013-12-27</td>\n",
       "      <td>18700.0</td>\n",
       "      <td>5100.0</td>\n",
       "    </tr>\n",
       "    <tr>\n",
       "      <th>619</th>\n",
       "      <td>2005</td>\n",
       "      <td>바이오</td>\n",
       "      <td>인터베스트</td>\n",
       "      <td>인터베스트바이오전문투자조합(한국모태펀드05-01)</td>\n",
       "      <td>2012-10-20</td>\n",
       "      <td>28000.0</td>\n",
       "      <td>6000.0</td>\n",
       "    </tr>\n",
       "  </tbody>\n",
       "</table>\n",
       "<p>620 rows × 7 columns</p>\n",
       "</div>"
      ],
      "text/plain": [
       "       년도         출자분야        운용사                          조합명         만기일  \\\n",
       "0    2019      LP지분유동화   포스코기술투자㈜           피씨씨-우리 LP지분 유동화 펀드  2027-12-31   \n",
       "1    2019       미세먼지해결  ㈜이앤인베스트먼트               2019모태이앤클린에어펀드  2027-12-29   \n",
       "2    2019         대학창업  숭실대학교기술지주          숭실대 SUJI 제1호 개인투자조합  2026-12-22   \n",
       "3    2019  디지털콘텐츠 해외진출    이에스인베스터             이에스6호디지털콘텐츠글로벌펀드  2026-12-22   \n",
       "4    2019      특허기술사업화   퀀텀벤처스코리아             퀀텀5G특화4차산업고급기술펀드  2027-11-27   \n",
       "..    ...          ...        ...                          ...         ...   \n",
       "615  2007      특허기술사업화   우리인베스트먼트             보스톤특허기술사업화전문투자조합  2013-03-31   \n",
       "616  2006         해외진출      엠벤처투자                아시아퍼시픽벤처투자조합B  2014-09-28   \n",
       "617  2006         문화산업   미시간벤처캐피탈                미시간글로벌컨텐츠투자조합  2014-06-24   \n",
       "618  2006         문화산업   우리인베스트먼트               보스톤영상콘텐츠전문투자조합  2013-12-27   \n",
       "619  2005          바이오      인터베스트  인터베스트바이오전문투자조합(한국모태펀드05-01)  2012-10-20   \n",
       "\n",
       "          금액      약정액  \n",
       "0    26000.0  10000.0  \n",
       "1    21500.0  15000.0  \n",
       "2     1700.0   1225.0  \n",
       "3    15000.0  10500.0  \n",
       "4    49700.0   2800.0  \n",
       "..       ...      ...  \n",
       "615  10000.0   4000.0  \n",
       "616  28341.0  11346.6  \n",
       "617  10000.0   3000.0  \n",
       "618  18700.0   5100.0  \n",
       "619  28000.0   6000.0  \n",
       "\n",
       "[620 rows x 7 columns]"
      ]
     },
     "execution_count": 72,
     "metadata": {},
     "output_type": "execute_result"
    }
   ],
   "source": [
    "VEN2"
   ]
  },
  {
   "cell_type": "markdown",
   "id": "38b4f3d8",
   "metadata": {},
   "source": []
  },
  {
   "cell_type": "code",
   "execution_count": null,
   "id": "1990d425",
   "metadata": {},
   "outputs": [],
   "source": []
  },
  {
   "cell_type": "code",
   "execution_count": null,
   "id": "5b6403ad",
   "metadata": {},
   "outputs": [],
   "source": []
  }
 ],
 "metadata": {
  "kernelspec": {
   "display_name": "Python 3",
   "language": "python",
   "name": "python3"
  },
  "language_info": {
   "codemirror_mode": {
    "name": "ipython",
    "version": 3
   },
   "file_extension": ".py",
   "mimetype": "text/x-python",
   "name": "python",
   "nbconvert_exporter": "python",
   "pygments_lexer": "ipython3",
   "version": "3.8.10"
  }
 },
 "nbformat": 4,
 "nbformat_minor": 5
}
