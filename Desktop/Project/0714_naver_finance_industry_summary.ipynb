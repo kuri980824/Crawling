{
 "cells": [
  {
   "cell_type": "code",
   "execution_count": 1,
   "id": "8e7b6324",
   "metadata": {},
   "outputs": [],
   "source": [
    "from selenium import webdriver\n",
    "import pandas as pd\n",
    "from bs4 import BeautifulSoup\n",
    "import urllib.request as req\n",
    "import pandas as pd\n",
    "import requests\n",
    "from io import StringIO\n",
    "from pdfminer.converter import TextConverter\n",
    "from pdfminer.layout import LAParams\n",
    "from pdfminer.pdfdocument import PDFDocument\n",
    "from pdfminer.pdfinterp import PDFResourceManager, PDFPageInterpreter\n",
    "from pdfminer.pdfpage import PDFPage\n",
    "from pdfminer.pdfparser import PDFParser\n",
    "import os\n",
    "from naver_crawler import *"
   ]
  },
  {
   "cell_type": "code",
   "execution_count": 2,
   "id": "d3bfb4cf",
   "metadata": {},
   "outputs": [
    {
     "name": "stdout",
     "output_type": "stream",
     "text": [
      "[1, 2, 3, 4, 5, 6, 7, 8, 9, 10, 11, 12, 13, 14, 15, 16, 17, 18, 19, 20, 21, 22, 23, 24, 25, 26, 27, 28, 29, 30, 31, 32, 33, 34, 35, 36, 37, 38, 39, 40, 41, 42, 43, 44, 45, 46, 47, 48, 49, 50, 51, 52, 53, 54, 55, 56, 57, 58, 59, 60, 61, 62, 63, 64, 65, 66, 67, 68, 69, 70, 71, 72, 73, 74, 75, 76, 77, 78, 79]\n"
     ]
    }
   ],
   "source": [
    "driver = webdriver.Chrome('C:/Users/shic/Desktop/Project/chromedriver.exe')\n",
    "driver.implicitly_wait(3)\n",
    "# start_date='2020-01-01' end_date='2021-07-14'\n",
    "pages = list(range(1,80,1)) # 2020년 1월 ~ 2021년 7월\n",
    "print(pages)"
   ]
  },
  {
   "cell_type": "code",
   "execution_count": 4,
   "id": "5524bde5",
   "metadata": {},
   "outputs": [],
   "source": [
    "# 네이버 산업분석 리포트 크롤링\n",
    "\n",
    "idx_list = [2,3,4,5,6,10,11,12,13,14,18,19,20,21,22,26,27,28,29,30,34,35,36,37,38,42,43,44,45,46]\n",
    "df = pd.DataFrame(columns = ['date','kapital','title','pdf','link','summary'])"
   ]
  },
  {
   "cell_type": "code",
   "execution_count": 52,
   "id": "809ea3c0",
   "metadata": {},
   "outputs": [
    {
     "data": {
      "text/plain": [
       "('20210714',\n",
       " '미래에셋증권',\n",
       " 'Global Fintech & Payment : Weekly Brief',\n",
       " '1626230372318',\n",
       " 'https://ssl.pstatic.net/imgstock/upload/research/industry/1626230372318.pdf',\n",
       " '카카오페이, 하나금융, 광주은행 등 6개사 마이데이터 본허가 (7월13일)- 7월13일 금융위는 정례회의 통해 마이데이터 허가 심사, 6개사에 본허가, 4개사에 예비허가를 내줌- 본허가를 받은 기업은 하나은행, 하나금융투자, 하나카드, 핀크, 카카오페이, 광주은행- 하나금융 계열사 4곳과 카카오페이는 대주주 적격성 문제가 해결되지 않아 예비허가부터 서비스 중단 등 어려움 겪어오다 상황 반전- 서비스 중단했던 자산관리서비스 등 마이데이터 유사서비스가 재개될 방침- 신규로 예비허가를 받은 곳은 키움증권, 현대차증권, 에프앤가이드, 유비밸록스 등')"
      ]
     },
     "execution_count": 52,
     "metadata": {},
     "output_type": "execute_result"
    }
   ],
   "source": [
    "url = \"https://finance.naver.com/research/industry_list.nhn?&page={}\".format(1)\n",
    "html = req.urlopen(url)\n",
    "html.encoding = 'cp949'\n",
    "doc = BeautifulSoup(html,\"html.parser\")\n",
    "\n",
    "srlists = doc.find_all('tr')\n",
    "tr = srlists[idx_list[0]]\n",
    "date = '20'+tr.find_all('td')[4].text.replace('.','')\n",
    "kap = tr.find_all('td')[2].text\n",
    "pdf = tr.find_all('td')[3].find('a')['href'][-17:-4]\n",
    "link = tr.find('td', class_='file').find('a').attrs['href']\n",
    "href = 'https://finance.naver.com/research/'+tr.find_all('td')[1].find('a')['href']\n",
    "# get data from second url\n",
    "html2 = urlopen(href)\n",
    "sour2 = BeautifulSoup(html2.read(), \"html.parser\")\n",
    "title = sour2.find(\"th\",'view_sbj').find('span').next_sibling.replace('\\t','').replace('\\n','').strip()\n",
    "\n",
    "# ind = sour2.find(\"th\",'view_sbj').find('span').texttitle = sour2.find(\"th\",'view_sbj').find('span').next_sibling.replace('\\t','').replace('\\n','').strip()\n",
    "s_temp=sour2.find(\"td\",'view_cnt').find_all('div')\n",
    "summary = s_temp[0].text.replace('\\n','')\n",
    "date, kap, title, pdf, link, summary"
   ]
  },
  {
   "cell_type": "code",
   "execution_count": 54,
   "id": "f280c7e6",
   "metadata": {
    "scrolled": true
   },
   "outputs": [
    {
     "name": "stdout",
     "output_type": "stream",
     "text": [
      "100\n",
      "200\n",
      "300\n",
      "400\n",
      "500\n",
      "600\n",
      "700\n",
      "800\n",
      "900\n",
      "1000\n",
      "1100\n",
      "1200\n",
      "1300\n",
      "1400\n",
      "1500\n",
      "1600\n",
      "1700\n",
      "1800\n",
      "1900\n",
      "2000\n",
      "2100\n",
      "2200\n",
      "2300\n"
     ]
    }
   ],
   "source": [
    "# 네이버 산업분석 리포트 크롤링\n",
    "\n",
    "idx_list = [2,3,4,5,6,10,11,12,13,14,18,19,20,21,22,26,27,28,29,30,34,35,36,37,38,42,43,44,45,46]\n",
    "df = pd.DataFrame(columns = ['date','kapital','title','pdf','href','summary'])\n",
    "count=0\n",
    "\n",
    "for p in pages:\n",
    "    \n",
    "    url = \"https://finance.naver.com/research/industry_list.nhn?&page={}\".format(p)\n",
    "    html = req.urlopen(url)\n",
    "    html.encoding = 'cp949'\n",
    "    doc = BeautifulSoup(html,\"html.parser\")\n",
    "\n",
    "    srlists = doc.find_all('tr')\n",
    "    \n",
    "    for i in range(30):\n",
    "        \n",
    "        tr = srlists[idx_list[i]]\n",
    "        date = '20'+tr.find_all('td')[4].text.replace('.','')\n",
    "        kap = tr.find_all('td')[2].text\n",
    "        pdf = tr.find_all('td')[3].find('a')['href'][-17:-4]\n",
    "        link = tr.find('td', class_='file').find('a').attrs['href']\n",
    "        href = 'https://finance.naver.com/research/'+tr.find_all('td')[1].find('a')['href']\n",
    "        # get data from second url\n",
    "        html2 = urlopen(href)\n",
    "        sour2 = BeautifulSoup(html2.read(), \"html.parser\")\n",
    "        title = sour2.find(\"th\",'view_sbj').find('span').next_sibling.replace('\\t','').replace('\\n','').strip()\n",
    "\n",
    "        s_temp=sour2.find(\"td\",'view_cnt').find_all('div')\n",
    "        summary = s_temp[0].text.replace('\\n','')\n",
    "       \n",
    "        # print(date, kap, pdf, title, href, link, summary)\n",
    "        record  = pd.Series([date, kap, title, pdf,href,summary],index = ['date','kapital','title','pdf','href','summary'])\n",
    "        \n",
    "        df = df.append(record, ignore_index = True)\n",
    "        \n",
    "        count+=1\n",
    "        if count%100==False:\n",
    "            print(count)"
   ]
  },
  {
   "cell_type": "code",
   "execution_count": 57,
   "id": "708e92d0",
   "metadata": {},
   "outputs": [
    {
     "data": {
      "text/plain": [
       "'C:\\\\Users\\\\shic\\\\Desktop\\\\Project\\\\1_Data'"
      ]
     },
     "execution_count": 57,
     "metadata": {},
     "output_type": "execute_result"
    }
   ],
   "source": [
    "os.chdir('C:\\\\Users\\\\shic\\\\Desktop\\\\Project\\\\1_Data')\n",
    "os.getcwd()"
   ]
  },
  {
   "cell_type": "code",
   "execution_count": 58,
   "id": "bb6adc3d",
   "metadata": {},
   "outputs": [],
   "source": [
    "df.to_csv('naver_finance_industry_summary.csv',index=False)"
   ]
  },
  {
   "cell_type": "code",
   "execution_count": 59,
   "id": "ddfbf51b",
   "metadata": {},
   "outputs": [
    {
     "data": {
      "text/plain": [
       "(2370, 6)"
      ]
     },
     "execution_count": 59,
     "metadata": {},
     "output_type": "execute_result"
    }
   ],
   "source": [
    "a = pd.read_csv('naver_finance_industry_summary.csv')\n",
    "a.shape"
   ]
  },
  {
   "cell_type": "code",
   "execution_count": 60,
   "id": "7845984b",
   "metadata": {},
   "outputs": [
    {
     "data": {
      "text/html": [
       "<div>\n",
       "<style scoped>\n",
       "    .dataframe tbody tr th:only-of-type {\n",
       "        vertical-align: middle;\n",
       "    }\n",
       "\n",
       "    .dataframe tbody tr th {\n",
       "        vertical-align: top;\n",
       "    }\n",
       "\n",
       "    .dataframe thead th {\n",
       "        text-align: right;\n",
       "    }\n",
       "</style>\n",
       "<table border=\"1\" class=\"dataframe\">\n",
       "  <thead>\n",
       "    <tr style=\"text-align: right;\">\n",
       "      <th></th>\n",
       "      <th>date</th>\n",
       "      <th>kapital</th>\n",
       "      <th>title</th>\n",
       "      <th>pdf</th>\n",
       "      <th>href</th>\n",
       "      <th>summary</th>\n",
       "    </tr>\n",
       "  </thead>\n",
       "  <tbody>\n",
       "    <tr>\n",
       "      <th>0</th>\n",
       "      <td>20210714</td>\n",
       "      <td>미래에셋증권</td>\n",
       "      <td>Global Fintech &amp; Payment : Weekly Brief</td>\n",
       "      <td>1626230372318</td>\n",
       "      <td>https://finance.naver.com/research/industry_re...</td>\n",
       "      <td>카카오페이, 하나금융, 광주은행 등 6개사 마이데이터 본허가 (7월13일)- 7월1...</td>\n",
       "    </tr>\n",
       "    <tr>\n",
       "      <th>1</th>\n",
       "      <td>20210714</td>\n",
       "      <td>교보증권</td>\n",
       "      <td>What's in My Bag: 필수템 찾기</td>\n",
       "      <td>1626229188835</td>\n",
       "      <td>https://finance.naver.com/research/industry_re...</td>\n",
       "      <td>눌려있는 화장품주, 변수는 리오프닝 시점화장품지수는 코로나19 첫 확산으로 증시가 ...</td>\n",
       "    </tr>\n",
       "    <tr>\n",
       "      <th>2</th>\n",
       "      <td>20210714</td>\n",
       "      <td>교보증권</td>\n",
       "      <td>건설/부동산 Weekly: 건설 가격 매력 재부각</td>\n",
       "      <td>1626229008434</td>\n",
       "      <td>https://finance.naver.com/research/industry_re...</td>\n",
       "      <td>건설/부동산 Weekly News- 첫 부동산 규제 철회 – 전셋값 폭등에 6∙17...</td>\n",
       "    </tr>\n",
       "    <tr>\n",
       "      <th>3</th>\n",
       "      <td>20210714</td>\n",
       "      <td>하나금융투자</td>\n",
       "      <td>휴대폰/부품(Overweight): 6월 중국 스마트폰 출하량</td>\n",
       "      <td>1626228724523</td>\n",
       "      <td>https://finance.naver.com/research/industry_re...</td>\n",
       "      <td>6월 중국 스마트폰 출하량: 반도체 공급 부족으로 역시 부진, 6월은 반등 예상-...</td>\n",
       "    </tr>\n",
       "    <tr>\n",
       "      <th>4</th>\n",
       "      <td>20210714</td>\n",
       "      <td>하나금융투자</td>\n",
       "      <td>섬유의복(Overweight): 2Q21 Pre: 2분기 실적 예상보다 좋을 듯</td>\n",
       "      <td>1626228558872</td>\n",
       "      <td>https://finance.naver.com/research/industry_re...</td>\n",
       "      <td>2분기 내수소비 긍정적소비 매크로 지표는 상당히 좋은 상황이다. 소비심리는 6월 1...</td>\n",
       "    </tr>\n",
       "  </tbody>\n",
       "</table>\n",
       "</div>"
      ],
      "text/plain": [
       "       date kapital                                         title  \\\n",
       "0  20210714  미래에셋증권       Global Fintech & Payment : Weekly Brief   \n",
       "1  20210714    교보증권                      What's in My Bag: 필수템 찾기   \n",
       "2  20210714    교보증권                   건설/부동산 Weekly: 건설 가격 매력 재부각   \n",
       "3  20210714  하나금융투자            휴대폰/부품(Overweight): 6월 중국 스마트폰 출하량   \n",
       "4  20210714  하나금융투자  섬유의복(Overweight): 2Q21 Pre: 2분기 실적 예상보다 좋을 듯   \n",
       "\n",
       "             pdf                                               href  \\\n",
       "0  1626230372318  https://finance.naver.com/research/industry_re...   \n",
       "1  1626229188835  https://finance.naver.com/research/industry_re...   \n",
       "2  1626229008434  https://finance.naver.com/research/industry_re...   \n",
       "3  1626228724523  https://finance.naver.com/research/industry_re...   \n",
       "4  1626228558872  https://finance.naver.com/research/industry_re...   \n",
       "\n",
       "                                             summary  \n",
       "0  카카오페이, 하나금융, 광주은행 등 6개사 마이데이터 본허가 (7월13일)- 7월1...  \n",
       "1  눌려있는 화장품주, 변수는 리오프닝 시점화장품지수는 코로나19 첫 확산으로 증시가 ...  \n",
       "2  건설/부동산 Weekly News- 첫 부동산 규제 철회 – 전셋값 폭등에 6∙17...  \n",
       "3   6월 중국 스마트폰 출하량: 반도체 공급 부족으로 역시 부진, 6월은 반등 예상-...  \n",
       "4  2분기 내수소비 긍정적소비 매크로 지표는 상당히 좋은 상황이다. 소비심리는 6월 1...  "
      ]
     },
     "execution_count": 60,
     "metadata": {},
     "output_type": "execute_result"
    }
   ],
   "source": [
    "a.head()"
   ]
  },
  {
   "cell_type": "code",
   "execution_count": null,
   "id": "7ec812a7",
   "metadata": {},
   "outputs": [],
   "source": []
  }
 ],
 "metadata": {
  "kernelspec": {
   "display_name": "Python 3",
   "language": "python",
   "name": "python3"
  },
  "language_info": {
   "codemirror_mode": {
    "name": "ipython",
    "version": 3
   },
   "file_extension": ".py",
   "mimetype": "text/x-python",
   "name": "python",
   "nbconvert_exporter": "python",
   "pygments_lexer": "ipython3",
   "version": "3.8.10"
  }
 },
 "nbformat": 4,
 "nbformat_minor": 5
}
